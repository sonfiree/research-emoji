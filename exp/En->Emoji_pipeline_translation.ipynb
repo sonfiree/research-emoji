{
 "cells": [
  {
   "cell_type": "markdown",
   "metadata": {},
   "source": [
    "En->emoji translation pipeline"
   ]
  },
  {
   "cell_type": "code",
   "execution_count": 1,
   "metadata": {
    "collapsed": true
   },
   "outputs": [],
   "source": [
    "import matplotlib.pyplot as plt\n",
    "%load_ext autoreload\n",
    "%autoreload 2\n",
    "%matplotlib inline\n",
    "\n",
    "import os\n",
    "import tensorflow as tf\n",
    "from tensorflow.python.framework import ops\n",
    "import pickle as pk\n",
    "import gensim.models as gs\n",
    "import numpy as np\n",
    "import random\n",
    "import itertools\n",
    "# Internal dependencies\n",
    "import nltk\n",
    "from nltk.corpus import wordnet as wn\n",
    "from model import Emoji2Vec\n",
    "from trainer import Trainer\n",
    "#from batcher import BatchNegSampler"
   ]
  },
  {
   "cell_type": "code",
   "execution_count": 5,
   "metadata": {
    "collapsed": true
   },
   "outputs": [],
   "source": [
    "emoji_to_ind = {}\n",
    "ind_to_emoji = []\n",
    "e2v = {}\n",
    "embeddings_array_emoji = []\n",
    "\n",
    "with open(\"../data/emoji2vec/e2v_as_average.txt\", \"r\") as f:\n",
    "    for i, line in enumerate(f.readlines()):\n",
    "        line = line.split('\\t')\n",
    "        emoji_to_ind[line[0]] = i\n",
    "        e2v[line[0]] = [float(x) for x in line[1].split()]\n",
    "        ind_to_emoji.append(line[0])\n",
    "        embeddings_array_emoji.append([float(x) for x in line[1].split()])"
   ]
  },
  {
   "cell_type": "code",
   "execution_count": 4,
   "metadata": {
    "collapsed": true
   },
   "outputs": [],
   "source": [
    "w2v = gs.KeyedVectors.load_word2vec_format(\"../data/word2vec/GoogleNews-vectors-negative300.bin\", binary=True)"
   ]
  },
  {
   "cell_type": "code",
   "execution_count": 16,
   "metadata": {
    "collapsed": true
   },
   "outputs": [],
   "source": [
    "w2v = {}\n",
    "word_to_ind = {}\n",
    "ind_to_word = []\n",
    "embeddings_array_words = []\n",
    "with open(\"../data/word2vec/w2v_as_average.txt\", \"r\") as f:\n",
    "    for i, line in enumerate(f.readlines()):\n",
    "        line = line.split('\\t')\n",
    "        word_to_ind[line[0]] = i\n",
    "        w2v[line[0]] = [float(x) for x in line[1].split()]\n",
    "        ind_to_word.append(line[0])\n",
    "        embeddings_array_words.append([float(x) for x in line[1].split()])"
   ]
  },
  {
   "cell_type": "code",
   "execution_count": 20,
   "metadata": {
    "collapsed": true
   },
   "outputs": [],
   "source": [
    "# get vector representation of a single token\n",
    "def V(token):\n",
    "    if token in w2v:\n",
    "        return w2v[token]\n",
    "    elif token in e2v:\n",
    "        return e2v[token]\n",
    "    raise Exception(\"given token {} is not in dictionary\".format(token))"
   ]
  },
  {
   "cell_type": "code",
   "execution_count": 17,
   "metadata": {
    "collapsed": true
   },
   "outputs": [],
   "source": [
    "# compute sum of vectors for tokens in item.split()\n",
    "def phraseVecModel(item):\n",
    "    tokens = item.lower().split(' ')\n",
    "    phr_sum = None\n",
    "\n",
    "    for token in tokens:\n",
    "        try:\n",
    "            phr_sum += V(token)\n",
    "        except Exception as e:\n",
    "            pass\n",
    "    return phr_sum"
   ]
  },
  {
   "cell_type": "code",
   "execution_count": 18,
   "metadata": {
    "collapsed": true
   },
   "outputs": [],
   "source": [
    "# get unicode description of emoji\n",
    "import unicodedata\n",
    "def n(smile):\n",
    "    try: \n",
    "        return unicodedata.name(smile)\n",
    "    except Exception as e:\n",
    "        pass"
   ]
  },
  {
   "cell_type": "code",
   "execution_count": 19,
   "metadata": {
    "collapsed": true
   },
   "outputs": [],
   "source": [
    "# sort emojis in order of ascending similarity to total vector\n",
    "# P.S. it is not effective code\n",
    "def sim(total):\n",
    "    if total is None:\n",
    "        return ()\n",
    "    ops.reset_default_graph()\n",
    "    # Emoji indices in current batch\n",
    "    V = tf.constant(embeddings_array_emoji)\n",
    "    \n",
    "    col = tf.placeholder(tf.int32, shape=[1], name='col')\n",
    "\n",
    "    orig_vec = tf.placeholder(tf.float32, shape=[1, 300], name='orig_vec')\n",
    "    v_row = orig_vec\n",
    "\n",
    "    v_col = tf.nn.embedding_lookup(V, col) # [1, 300]\n",
    "\n",
    "    # Calculate the predicted score, a.k.a. dot product (here)\n",
    "    score = tf.reduce_sum(tf.multiply(v_row, v_col), 1) # [1]\n",
    "\n",
    "    # Probability of match\n",
    "    #prob = tf.sigmoid(score) # [1]\n",
    "    prob = score / (tf.norm(v_row) * tf.norm(v_col))\n",
    "    \n",
    "    res = list()\n",
    "    session = tf.Session()\n",
    "    for colIx in range(0, len(ind_to_emoji)):\n",
    "        predict = session.run(prob, feed_dict={\n",
    "            col: np.array([colIx]),\n",
    "            orig_vec: np.array([total]),\n",
    "        })\n",
    "        res.append(predict[0])\n",
    "        \n",
    "    ems = sorted(range(len(res)), key=lambda i: res[i], reverse=True)[:4]\n",
    "    res = sorted(res, reverse=True)\n",
    "    \n",
    "    return ([(ind_to_emoji[em], n(ind_to_emoji[em][0]), res_) for em, res_ in zip(ems, res)])"
   ]
  },
  {
   "cell_type": "code",
   "execution_count": 21,
   "metadata": {
    "collapsed": true
   },
   "outputs": [],
   "source": [
    "# compute similarity between 2 vectors: a, b\n",
    "# P.S. it's also not an effective code ><\n",
    "def similarity(a, b):\n",
    "    v_row = tf.placeholder(tf.float32, shape=[1, 300], name='v_row')\n",
    "\n",
    "    v_col = tf.placeholder(tf.float32, shape=[1, 300], name='v_col')\n",
    "    \n",
    "    # Calculate the predicted score, a.k.a. dot product (here)\n",
    "    score = tf.reduce_sum(tf.multiply(v_row, v_col), 1) # [1]\n",
    "\n",
    "    # Probability of match\n",
    "    #prob = tf.sigmoid(score) # [1]\n",
    "    prob = score / (tf.norm(v_row) * tf.norm(v_col))\n",
    "\n",
    "    res = list()\n",
    "    session = tf.Session()\n",
    "    predict = session.run(prob, feed_dict={\n",
    "        v_col: np.array([a]),\n",
    "        v_row: np.array([b]),\n",
    "    })\n",
    "    return predict[0]"
   ]
  },
  {
   "cell_type": "code",
   "execution_count": 22,
   "metadata": {
    "collapsed": true
   },
   "outputs": [],
   "source": [
    "nouns = {x.name().split('.', 1)[0] for x in wn.all_synsets('n')}\n",
    "# find set of emojis best representing the given phrase (in some way)\n",
    "def find_sims(phrase, threshold):\n",
    "    sims = []\n",
    "    collected_score = 0\n",
    "    phrase_emb = phraseVecModel(phrase)\n",
    "    \n",
    "    while collected_score < threshold:\n",
    "        smile, descr, score = sim(phrase_emb)[0]\n",
    "        collected_score += score\n",
    "        sims.append((smile, descr, score))\n",
    "        if phrase in nouns:\n",
    "            break\n",
    "        if score < 0.25:\n",
    "            break\n",
    "        smile_emb = phraseVecModel(descr)\n",
    "        print(smile, descr, score)\n",
    "        phrase_emb = [phrase_emb[i] - score*smile_emb[i] for i in range(300)]\n",
    "        \n",
    "#         if score > 0.7:\n",
    "#             break\n",
    "        \n",
    "        if len(sims) > 2:\n",
    "            break\n",
    "        \n",
    "    return sims"
   ]
  },
  {
   "cell_type": "code",
   "execution_count": 27,
   "metadata": {},
   "outputs": [
    {
     "name": "stdout",
     "output_type": "stream",
     "text": [
      "[('🚗', 'AUTOMOBILE', 0.71176922), ('🚘', 'ONCOMING AUTOMOBILE', 0.63140714), ('🏍️', 'RACING MOTORCYCLE', 0.49713874), ('\\U0001f6f4', None, 0.4655095)]\n"
     ]
    }
   ],
   "source": [
    "print(sim(phraseVecModel('automobile')))"
   ]
  },
  {
   "cell_type": "code",
   "execution_count": 13,
   "metadata": {
    "collapsed": true
   },
   "outputs": [],
   "source": [
    "bad_tokens = ['the', 'for', 'are']\n",
    "alphabet = 'abcdefghigklmnopqrstuvwxyz'"
   ]
  },
  {
   "cell_type": "code",
   "execution_count": 14,
   "metadata": {
    "collapsed": true
   },
   "outputs": [],
   "source": [
    "import itertools"
   ]
  },
  {
   "cell_type": "code",
   "execution_count": 30,
   "metadata": {
    "collapsed": true
   },
   "outputs": [],
   "source": [
    "def get_subphrase_score(tokens, begin_ind, end_ind):\n",
    "    if end_ind > len(tokens) or begin_ind < 0:\n",
    "        return 0\n",
    "    subphrase = ' '.join([tokens[i] for i in range(begin_ind, end_ind)])\n",
    "    print(subphrase)\n",
    "    translation = ' '.join([x[0] for x in find_sims(subphrase, 0.7)])\n",
    "    simil = similarity(phraseVecModel(subphrase), phraseVecModel(translation))\n",
    "    return translation, simil\n",
    "\n",
    "translations = []\n",
    "scores = []\n",
    "\n",
    "# try to split phrase into subsets of words so that this split is best for translating each \n",
    "# subphrase into emojis using find_sims function \n",
    "def tokenize(phrase):\n",
    "    tokens = []\n",
    "    for token in phrase.lower().split():\n",
    "        while token[0] not in alphabet:\n",
    "            token = token[1:]\n",
    "        while token[-1] not in alphabet:\n",
    "            token = token[:-1]\n",
    "        if len(token) > 2 and token not in bad_tokens:\n",
    "            tokens.append(token)\n",
    "    for m in range(len(tokens)//2, len(tokens)):\n",
    "        borders_sets = list(itertools.combinations(list(range(len(tokens))), m))\n",
    "        for borders_ in borders_sets:\n",
    "            borders = []\n",
    "            borders_ = list(sorted(borders_))\n",
    "            if len(borders_) > 0 and borders_[0] != 0:\n",
    "                borders = [0]\n",
    "            borders.extend(borders_)\n",
    "            borders.append(len(tokens))\n",
    "            begin_ind = 0\n",
    "            end_ind = 1\n",
    "            \n",
    "            score = 0\n",
    "            translation = []\n",
    "            \n",
    "            while end_ind < len(borders):\n",
    "                try:\n",
    "                    tr, new_score = get_subphrase_score(tokens, borders[begin_ind], borders[end_ind])\n",
    "                    translation.append(tr)\n",
    "                    score += new_score\n",
    "                except Exception as e:\n",
    "                    pass\n",
    "                begin_ind += 1\n",
    "                end_ind += 1\n",
    "            \n",
    "            translations.append('|'.join(translation))\n",
    "            scores.append(score)\n",
    "            \n",
    "            print(translations[-1], scores[-1])\n",
    "            print(\"===========================\")\n",
    "                  "
   ]
  },
  {
   "cell_type": "code",
   "execution_count": 16,
   "metadata": {
    "collapsed": true
   },
   "outputs": [
    {
     "name": "stdout",
     "output_type": "stream",
     "text": [
      "drunk\n",
      "driver hit out road\n",
      "🍸|🚘 🚓 1.00471621752\n",
      "===========================\n",
      "drunk driver\n",
      "hit out road\n",
      "🚘 🍸|🚘 🆙 🚵 1.05803227425\n",
      "===========================\n",
      "drunk driver hit\n",
      "out road\n",
      "🚘 🕴️|⤵️ 🚏 🛤️ 0.900391936302\n",
      "===========================\n",
      "drunk driver hit out\n",
      "road\n",
      "🚘 🕴️|🚃 0.932773083448\n",
      "===========================\n",
      "drunk\n",
      "driver\n",
      "hit out road\n",
      "🍸|🚘|🚘 🆙 🚵 1.48281171918\n",
      "===========================\n",
      "drunk\n",
      "driver hit\n",
      "out road\n",
      "🍸|🚘 🕴️|⤵️ 🚏 🛤️ 1.33551338315\n",
      "===========================\n",
      "drunk\n",
      "driver hit out\n",
      "road\n",
      "🍸|🚘 🕴️|🚃 1.36438435316\n",
      "===========================\n",
      "drunk driver\n",
      "hit\n",
      "out road\n",
      "🚘 🍸|🎯|⤵️ 🚏 🛤️ 1.31914708018\n",
      "===========================\n",
      "drunk driver\n",
      "hit out\n",
      "road\n",
      "🚘 🍸|🚃 0.927494198084\n",
      "===========================\n",
      "drunk driver hit\n",
      "out\n",
      "road\n",
      "🚘 🕴️|🔙|🚃 1.34232139587\n",
      "===========================\n",
      "drunk\n",
      "driver\n",
      "hit out road\n",
      "🍸|🚘|🚘 🆙 🚵 1.48281171918\n",
      "===========================\n",
      "drunk\n",
      "driver hit\n",
      "out road\n",
      "🍸|🚘 🕴️|⤵️ 🚏 🛤️ 1.33551332355\n",
      "===========================\n",
      "drunk\n",
      "driver hit out\n",
      "road\n",
      "🍸|🚘 🕴️|🚃 1.36438435316\n",
      "===========================\n",
      "drunk driver\n",
      "hit\n",
      "out road\n",
      "🚘 🍸|🎯|⤵️ 🚏 🛤️ 1.31914713979\n",
      "===========================\n",
      "drunk driver\n",
      "hit out\n",
      "road\n",
      "🚘 🍸|🚃 0.927494198084\n",
      "===========================\n",
      "drunk driver hit\n",
      "out\n",
      "road\n",
      "🚘 🕴️|🔙|🚃 1.34232139587\n",
      "===========================\n",
      "drunk\n",
      "driver\n",
      "hit\n",
      "out road\n",
      "🍸|🚘|🎯|⤵️ 🚏 🛤️ 1.74392658472\n",
      "===========================\n",
      "drunk\n",
      "driver\n",
      "hit out\n",
      "road\n",
      "🍸|🚘|🚃 1.35227379203\n",
      "===========================\n",
      "drunk\n",
      "driver hit\n",
      "out\n",
      "road\n",
      "🍸|🚘 🕴️|🔙|🚃 1.77744281292\n",
      "===========================\n",
      "drunk driver\n",
      "hit\n",
      "out\n",
      "road\n",
      "🚘 🍸|🎯|🔙|🚃 1.76107650995\n",
      "===========================\n",
      "drunk\n",
      "driver\n",
      "hit\n",
      "out road\n",
      "🍸|🚘|🎯|⤵️ 🚏 🛤️ 1.74392664433\n",
      "===========================\n",
      "drunk\n",
      "driver\n",
      "hit out\n",
      "road\n",
      "🍸|🚘|🚃 1.35227364302\n",
      "===========================\n",
      "drunk\n",
      "driver hit\n",
      "out\n",
      "road\n",
      "🍸|🚘 🕴️|🔙|🚃 1.77744275331\n",
      "===========================\n",
      "drunk driver\n",
      "hit\n",
      "out\n",
      "road\n",
      "🚘 🍸|🎯|🔙|🚃 1.76107645035\n",
      "===========================\n",
      "drunk\n",
      "driver\n",
      "hit\n",
      "out\n",
      "road\n",
      "🍸|🚘|🎯|🔙|🚃 2.18585601449\n",
      "===========================\n"
     ]
    }
   ],
   "source": [
    "tokenize('drunk driver hit me out of the road')"
   ]
  },
  {
   "cell_type": "code",
   "execution_count": 31,
   "metadata": {
    "collapsed": true
   },
   "outputs": [
    {
     "name": "stdout",
     "output_type": "stream",
     "text": [
      "russian\n",
      "rocket landed pacific ocean\n",
      "🇷🇺|🚀 🌊 1.11947250366\n",
      "===========================\n",
      "russian rocket\n",
      "landed pacific ocean\n",
      "🚀 🇷🇺|🌊 🇮🇴 1.19825345278\n",
      "===========================\n",
      "russian rocket landed\n",
      "pacific ocean\n",
      "🚀 🇷🇺|🌊 🇮🇴 1.21570831537\n",
      "===========================\n",
      "russian rocket landed pacific\n",
      "ocean\n",
      "🚀 🇷🇺|🌊 1.22547090054\n",
      "===========================\n",
      "russian\n",
      "rocket\n",
      "landed pacific ocean\n",
      "🇷🇺|🚀|🌊 🇮🇴 1.85984379053\n",
      "===========================\n",
      "russian\n",
      "rocket landed\n",
      "pacific ocean\n",
      "🇷🇺|🚀 🚀|🌊 🇮🇴 1.80308133364\n",
      "===========================\n",
      "russian\n",
      "rocket landed pacific\n",
      "ocean\n",
      "🇷🇺|🚀 🚀|🌊 1.72357535362\n",
      "===========================\n",
      "russian rocket\n",
      "landed\n",
      "pacific ocean\n",
      "🚀 🇷🇺|🌊 🇮🇴 1.28981137276\n",
      "===========================\n",
      "russian rocket\n",
      "landed pacific\n",
      "ocean\n",
      "🚀 🇷🇺|🌊 1.33253782988\n",
      "===========================\n",
      "russian rocket landed\n",
      "pacific\n",
      "ocean\n",
      "🚀 🇷🇺|🇮🇴|🌊 1.64197978377\n",
      "===========================\n",
      "russian\n",
      "rocket\n",
      "landed pacific ocean\n",
      "🇷🇺|🚀|🌊 🇮🇴 1.85984390974\n",
      "===========================\n",
      "russian\n",
      "rocket landed\n",
      "pacific ocean\n",
      "🇷🇺|🚀 🚀|🌊 🇮🇴 1.80308133364\n",
      "===========================\n",
      "russian\n",
      "rocket landed pacific\n",
      "ocean\n",
      "🇷🇺|🚀 🚀|🌊 1.72357529402\n",
      "===========================\n",
      "russian rocket\n",
      "landed\n",
      "pacific ocean\n",
      "🚀 🇷🇺|🌊 🇮🇴 1.28981119394\n",
      "===========================\n",
      "russian rocket\n",
      "landed pacific\n",
      "ocean\n",
      "🚀 🇷🇺|🌊 1.33253788948\n",
      "===========================\n",
      "russian rocket landed\n",
      "pacific\n",
      "ocean\n",
      "🚀 🇷🇺|🇮🇴|🌊 1.64197978377\n",
      "===========================\n",
      "russian\n",
      "rocket\n",
      "landed\n",
      "pacific ocean\n",
      "🇷🇺|🚀|🌊 🇮🇴 1.95140171051\n",
      "===========================\n",
      "russian\n",
      "rocket\n",
      "landed pacific\n",
      "ocean\n",
      "🇷🇺|🚀|🌊 1.99412828684\n",
      "===========================\n",
      "russian\n",
      "rocket landed\n",
      "pacific\n",
      "ocean\n",
      "🇷🇺|🚀 🚀|🇮🇴|🌊 2.22935274243\n",
      "===========================\n",
      "russian rocket\n",
      "landed\n",
      "pacific\n",
      "ocean\n",
      "🚀 🇷🇺|🇮🇴|🌊 1.71608266234\n",
      "===========================\n",
      "russian\n",
      "rocket\n",
      "landed\n",
      "pacific ocean\n",
      "🇷🇺|🚀|🌊 🇮🇴 1.95140171051\n",
      "===========================\n",
      "russian\n",
      "rocket\n",
      "landed pacific\n",
      "ocean\n",
      "🇷🇺|🚀|🌊 1.99412828684\n",
      "===========================\n",
      "russian\n",
      "rocket landed\n",
      "pacific\n",
      "ocean\n",
      "🇷🇺|🚀 🚀|🇮🇴|🌊 2.22935274243\n",
      "===========================\n",
      "russian rocket\n",
      "landed\n",
      "pacific\n",
      "ocean\n",
      "🚀 🇷🇺|🇮🇴|🌊 1.71608266234\n",
      "===========================\n",
      "russian\n",
      "rocket\n",
      "landed\n",
      "pacific\n",
      "ocean\n",
      "🇷🇺|🚀|🇮🇴|🌊 2.37767311931\n",
      "===========================\n"
     ]
    }
   ],
   "source": [
    "tokenize('Russian rocket landed in pacific ocean')"
   ]
  },
  {
   "cell_type": "code",
   "execution_count": 28,
   "metadata": {
    "collapsed": true
   },
   "outputs": [
    {
     "name": "stdout",
     "output_type": "stream",
     "text": [
      "killing\n",
      "people instruction cats\n",
      "💀|🐈 🚷 0.893984466791\n",
      "===========================\n",
      "killing people\n",
      "instruction cats\n",
      "💀 👵 🚷|🐈 🐾 0.975699305534\n",
      "===========================\n",
      "killing people instruction\n",
      "cats\n",
      "🙇 🚸|🐈 1.10461840034\n",
      "===========================\n",
      "killing\n",
      "people\n",
      "instruction cats\n",
      "💀|🚷|🐈 🐾 1.32512834668\n",
      "===========================\n",
      "killing\n",
      "people instruction\n",
      "cats\n",
      "💀|🚷 🏫 ℹ️|🐈 1.56678208709\n",
      "===========================\n",
      "killing people\n",
      "instruction\n",
      "cats\n",
      "💀 👵 🚷|🏫|🐈 1.50554850698\n",
      "===========================\n",
      "killing\n",
      "people\n",
      "instruction cats\n",
      "💀|🚷|🐈 🐾 1.32512831688\n",
      "===========================\n",
      "killing\n",
      "people instruction\n"
     ]
    },
    {
     "ename": "KeyboardInterrupt",
     "evalue": "",
     "output_type": "error",
     "traceback": [
      "\u001b[0;31m---------------------------------------------------------------------------\u001b[0m",
      "\u001b[0;31mKeyboardInterrupt\u001b[0m                         Traceback (most recent call last)",
      "\u001b[0;32m<ipython-input-28-6947e4edacea>\u001b[0m in \u001b[0;36m<module>\u001b[0;34m()\u001b[0m\n\u001b[0;32m----> 1\u001b[0;31m \u001b[0mtokenize\u001b[0m\u001b[0;34m(\u001b[0m\u001b[0;34m'killing people: instruction for cats'\u001b[0m\u001b[0;34m)\u001b[0m\u001b[0;34m\u001b[0m\u001b[0m\n\u001b[0m",
      "\u001b[0;32m<ipython-input-27-f6c554d2c8be>\u001b[0m in \u001b[0;36mtokenize\u001b[0;34m(phrase)\u001b[0m\n\u001b[1;32m     37\u001b[0m             \u001b[0;32mwhile\u001b[0m \u001b[0mend_ind\u001b[0m \u001b[0;34m<\u001b[0m \u001b[0mlen\u001b[0m\u001b[0;34m(\u001b[0m\u001b[0mborders\u001b[0m\u001b[0;34m)\u001b[0m\u001b[0;34m:\u001b[0m\u001b[0;34m\u001b[0m\u001b[0m\n\u001b[1;32m     38\u001b[0m                 \u001b[0;32mtry\u001b[0m\u001b[0;34m:\u001b[0m\u001b[0;34m\u001b[0m\u001b[0m\n\u001b[0;32m---> 39\u001b[0;31m                     \u001b[0mtr\u001b[0m\u001b[0;34m,\u001b[0m \u001b[0mnew_score\u001b[0m \u001b[0;34m=\u001b[0m \u001b[0mget_subphrase_score\u001b[0m\u001b[0;34m(\u001b[0m\u001b[0mtokens\u001b[0m\u001b[0;34m,\u001b[0m \u001b[0mborders\u001b[0m\u001b[0;34m[\u001b[0m\u001b[0mbegin_ind\u001b[0m\u001b[0;34m]\u001b[0m\u001b[0;34m,\u001b[0m \u001b[0mborders\u001b[0m\u001b[0;34m[\u001b[0m\u001b[0mend_ind\u001b[0m\u001b[0;34m]\u001b[0m\u001b[0;34m)\u001b[0m\u001b[0;34m\u001b[0m\u001b[0m\n\u001b[0m\u001b[1;32m     40\u001b[0m                     \u001b[0mtranslation\u001b[0m\u001b[0;34m.\u001b[0m\u001b[0mappend\u001b[0m\u001b[0;34m(\u001b[0m\u001b[0mtr\u001b[0m\u001b[0;34m)\u001b[0m\u001b[0;34m\u001b[0m\u001b[0m\n\u001b[1;32m     41\u001b[0m                     \u001b[0mscore\u001b[0m \u001b[0;34m+=\u001b[0m \u001b[0mnew_score\u001b[0m\u001b[0;34m\u001b[0m\u001b[0m\n",
      "\u001b[0;32m<ipython-input-27-f6c554d2c8be>\u001b[0m in \u001b[0;36mget_subphrase_score\u001b[0;34m(tokens, begin_ind, end_ind)\u001b[0m\n\u001b[1;32m      4\u001b[0m     \u001b[0msubphrase\u001b[0m \u001b[0;34m=\u001b[0m \u001b[0;34m' '\u001b[0m\u001b[0;34m.\u001b[0m\u001b[0mjoin\u001b[0m\u001b[0;34m(\u001b[0m\u001b[0;34m[\u001b[0m\u001b[0mtokens\u001b[0m\u001b[0;34m[\u001b[0m\u001b[0mi\u001b[0m\u001b[0;34m]\u001b[0m \u001b[0;32mfor\u001b[0m \u001b[0mi\u001b[0m \u001b[0;32min\u001b[0m \u001b[0mrange\u001b[0m\u001b[0;34m(\u001b[0m\u001b[0mbegin_ind\u001b[0m\u001b[0;34m,\u001b[0m \u001b[0mend_ind\u001b[0m\u001b[0;34m)\u001b[0m\u001b[0;34m]\u001b[0m\u001b[0;34m)\u001b[0m\u001b[0;34m\u001b[0m\u001b[0m\n\u001b[1;32m      5\u001b[0m     \u001b[0mprint\u001b[0m\u001b[0;34m(\u001b[0m\u001b[0msubphrase\u001b[0m\u001b[0;34m)\u001b[0m\u001b[0;34m\u001b[0m\u001b[0m\n\u001b[0;32m----> 6\u001b[0;31m     \u001b[0mtranslation\u001b[0m \u001b[0;34m=\u001b[0m \u001b[0;34m' '\u001b[0m\u001b[0;34m.\u001b[0m\u001b[0mjoin\u001b[0m\u001b[0;34m(\u001b[0m\u001b[0;34m[\u001b[0m\u001b[0mx\u001b[0m\u001b[0;34m[\u001b[0m\u001b[0;36m0\u001b[0m\u001b[0;34m]\u001b[0m \u001b[0;32mfor\u001b[0m \u001b[0mx\u001b[0m \u001b[0;32min\u001b[0m \u001b[0mfind_sims\u001b[0m\u001b[0;34m(\u001b[0m\u001b[0msubphrase\u001b[0m\u001b[0;34m,\u001b[0m \u001b[0;36m0.7\u001b[0m\u001b[0;34m)\u001b[0m\u001b[0;34m]\u001b[0m\u001b[0;34m)\u001b[0m\u001b[0;34m\u001b[0m\u001b[0m\n\u001b[0m\u001b[1;32m      7\u001b[0m     \u001b[0msimil\u001b[0m \u001b[0;34m=\u001b[0m \u001b[0msimilarity\u001b[0m\u001b[0;34m(\u001b[0m\u001b[0mphraseVecModel\u001b[0m\u001b[0;34m(\u001b[0m\u001b[0msubphrase\u001b[0m\u001b[0;34m)\u001b[0m\u001b[0;34m,\u001b[0m \u001b[0mphraseVecModel\u001b[0m\u001b[0;34m(\u001b[0m\u001b[0mtranslation\u001b[0m\u001b[0;34m)\u001b[0m\u001b[0;34m)\u001b[0m\u001b[0;34m\u001b[0m\u001b[0m\n\u001b[1;32m      8\u001b[0m     \u001b[0;32mreturn\u001b[0m \u001b[0mtranslation\u001b[0m\u001b[0;34m,\u001b[0m \u001b[0msimil\u001b[0m\u001b[0;34m\u001b[0m\u001b[0m\n",
      "\u001b[0;32m<ipython-input-11-cdedd45de96c>\u001b[0m in \u001b[0;36mfind_sims\u001b[0;34m(phrase, threshold)\u001b[0m\n\u001b[1;32m      5\u001b[0m \u001b[0;34m\u001b[0m\u001b[0m\n\u001b[1;32m      6\u001b[0m     \u001b[0;32mwhile\u001b[0m \u001b[0mcollected_score\u001b[0m \u001b[0;34m<\u001b[0m \u001b[0mthreshold\u001b[0m\u001b[0;34m:\u001b[0m\u001b[0;34m\u001b[0m\u001b[0m\n\u001b[0;32m----> 7\u001b[0;31m         \u001b[0msmile\u001b[0m\u001b[0;34m,\u001b[0m \u001b[0mdescr\u001b[0m\u001b[0;34m,\u001b[0m \u001b[0mscore\u001b[0m \u001b[0;34m=\u001b[0m \u001b[0msim\u001b[0m\u001b[0;34m(\u001b[0m\u001b[0mphrase_emb\u001b[0m\u001b[0;34m)\u001b[0m\u001b[0;34m[\u001b[0m\u001b[0;36m0\u001b[0m\u001b[0;34m]\u001b[0m\u001b[0;34m\u001b[0m\u001b[0m\n\u001b[0m\u001b[1;32m      8\u001b[0m         \u001b[0mcollected_score\u001b[0m \u001b[0;34m+=\u001b[0m \u001b[0mscore\u001b[0m\u001b[0;34m\u001b[0m\u001b[0m\n\u001b[1;32m      9\u001b[0m         \u001b[0msims\u001b[0m\u001b[0;34m.\u001b[0m\u001b[0mappend\u001b[0m\u001b[0;34m(\u001b[0m\u001b[0;34m(\u001b[0m\u001b[0msmile\u001b[0m\u001b[0;34m,\u001b[0m \u001b[0mdescr\u001b[0m\u001b[0;34m,\u001b[0m \u001b[0mscore\u001b[0m\u001b[0;34m)\u001b[0m\u001b[0;34m)\u001b[0m\u001b[0;34m\u001b[0m\u001b[0m\n",
      "\u001b[0;32m<ipython-input-7-4e45d9d4d7db>\u001b[0m in \u001b[0;36msim\u001b[0;34m(total)\u001b[0m\n\u001b[1;32m     25\u001b[0m         predict = session.run(prob, feed_dict={\n\u001b[1;32m     26\u001b[0m             \u001b[0mcol\u001b[0m\u001b[0;34m:\u001b[0m \u001b[0mnp\u001b[0m\u001b[0;34m.\u001b[0m\u001b[0marray\u001b[0m\u001b[0;34m(\u001b[0m\u001b[0;34m[\u001b[0m\u001b[0mcolIx\u001b[0m\u001b[0;34m]\u001b[0m\u001b[0;34m)\u001b[0m\u001b[0;34m,\u001b[0m\u001b[0;34m\u001b[0m\u001b[0m\n\u001b[0;32m---> 27\u001b[0;31m             \u001b[0morig_vec\u001b[0m\u001b[0;34m:\u001b[0m \u001b[0mnp\u001b[0m\u001b[0;34m.\u001b[0m\u001b[0marray\u001b[0m\u001b[0;34m(\u001b[0m\u001b[0;34m[\u001b[0m\u001b[0mtotal\u001b[0m\u001b[0;34m]\u001b[0m\u001b[0;34m)\u001b[0m\u001b[0;34m,\u001b[0m\u001b[0;34m\u001b[0m\u001b[0m\n\u001b[0m\u001b[1;32m     28\u001b[0m         })\n\u001b[1;32m     29\u001b[0m         \u001b[0mres\u001b[0m\u001b[0;34m.\u001b[0m\u001b[0mappend\u001b[0m\u001b[0;34m(\u001b[0m\u001b[0mpredict\u001b[0m\u001b[0;34m[\u001b[0m\u001b[0;36m0\u001b[0m\u001b[0;34m]\u001b[0m\u001b[0;34m)\u001b[0m\u001b[0;34m\u001b[0m\u001b[0m\n",
      "\u001b[0;32m~/.local/lib/python3.5/site-packages/tensorflow/python/client/session.py\u001b[0m in \u001b[0;36mrun\u001b[0;34m(self, fetches, feed_dict, options, run_metadata)\u001b[0m\n\u001b[1;32m    765\u001b[0m     \u001b[0;32mtry\u001b[0m\u001b[0;34m:\u001b[0m\u001b[0;34m\u001b[0m\u001b[0m\n\u001b[1;32m    766\u001b[0m       result = self._run(None, fetches, feed_dict, options_ptr,\n\u001b[0;32m--> 767\u001b[0;31m                          run_metadata_ptr)\n\u001b[0m\u001b[1;32m    768\u001b[0m       \u001b[0;32mif\u001b[0m \u001b[0mrun_metadata\u001b[0m\u001b[0;34m:\u001b[0m\u001b[0;34m\u001b[0m\u001b[0m\n\u001b[1;32m    769\u001b[0m         \u001b[0mproto_data\u001b[0m \u001b[0;34m=\u001b[0m \u001b[0mtf_session\u001b[0m\u001b[0;34m.\u001b[0m\u001b[0mTF_GetBuffer\u001b[0m\u001b[0;34m(\u001b[0m\u001b[0mrun_metadata_ptr\u001b[0m\u001b[0;34m)\u001b[0m\u001b[0;34m\u001b[0m\u001b[0m\n",
      "\u001b[0;32m~/.local/lib/python3.5/site-packages/tensorflow/python/client/session.py\u001b[0m in \u001b[0;36m_run\u001b[0;34m(self, handle, fetches, feed_dict, options, run_metadata)\u001b[0m\n\u001b[1;32m    963\u001b[0m     \u001b[0;32mif\u001b[0m \u001b[0mfinal_fetches\u001b[0m \u001b[0;32mor\u001b[0m \u001b[0mfinal_targets\u001b[0m\u001b[0;34m:\u001b[0m\u001b[0;34m\u001b[0m\u001b[0m\n\u001b[1;32m    964\u001b[0m       results = self._do_run(handle, final_targets, final_fetches,\n\u001b[0;32m--> 965\u001b[0;31m                              feed_dict_string, options, run_metadata)\n\u001b[0m\u001b[1;32m    966\u001b[0m     \u001b[0;32melse\u001b[0m\u001b[0;34m:\u001b[0m\u001b[0;34m\u001b[0m\u001b[0m\n\u001b[1;32m    967\u001b[0m       \u001b[0mresults\u001b[0m \u001b[0;34m=\u001b[0m \u001b[0;34m[\u001b[0m\u001b[0;34m]\u001b[0m\u001b[0;34m\u001b[0m\u001b[0m\n",
      "\u001b[0;32m~/.local/lib/python3.5/site-packages/tensorflow/python/client/session.py\u001b[0m in \u001b[0;36m_do_run\u001b[0;34m(self, handle, target_list, fetch_list, feed_dict, options, run_metadata)\u001b[0m\n\u001b[1;32m   1013\u001b[0m     \u001b[0;32mif\u001b[0m \u001b[0mhandle\u001b[0m \u001b[0;32mis\u001b[0m \u001b[0;32mNone\u001b[0m\u001b[0;34m:\u001b[0m\u001b[0;34m\u001b[0m\u001b[0m\n\u001b[1;32m   1014\u001b[0m       return self._do_call(_run_fn, self._session, feed_dict, fetch_list,\n\u001b[0;32m-> 1015\u001b[0;31m                            target_list, options, run_metadata)\n\u001b[0m\u001b[1;32m   1016\u001b[0m     \u001b[0;32melse\u001b[0m\u001b[0;34m:\u001b[0m\u001b[0;34m\u001b[0m\u001b[0m\n\u001b[1;32m   1017\u001b[0m       return self._do_call(_prun_fn, self._session, handle, feed_dict,\n",
      "\u001b[0;32m~/.local/lib/python3.5/site-packages/tensorflow/python/client/session.py\u001b[0m in \u001b[0;36m_do_call\u001b[0;34m(self, fn, *args)\u001b[0m\n\u001b[1;32m   1020\u001b[0m   \u001b[0;32mdef\u001b[0m \u001b[0m_do_call\u001b[0m\u001b[0;34m(\u001b[0m\u001b[0mself\u001b[0m\u001b[0;34m,\u001b[0m \u001b[0mfn\u001b[0m\u001b[0;34m,\u001b[0m \u001b[0;34m*\u001b[0m\u001b[0margs\u001b[0m\u001b[0;34m)\u001b[0m\u001b[0;34m:\u001b[0m\u001b[0;34m\u001b[0m\u001b[0m\n\u001b[1;32m   1021\u001b[0m     \u001b[0;32mtry\u001b[0m\u001b[0;34m:\u001b[0m\u001b[0;34m\u001b[0m\u001b[0m\n\u001b[0;32m-> 1022\u001b[0;31m       \u001b[0;32mreturn\u001b[0m \u001b[0mfn\u001b[0m\u001b[0;34m(\u001b[0m\u001b[0;34m*\u001b[0m\u001b[0margs\u001b[0m\u001b[0;34m)\u001b[0m\u001b[0;34m\u001b[0m\u001b[0m\n\u001b[0m\u001b[1;32m   1023\u001b[0m     \u001b[0;32mexcept\u001b[0m \u001b[0merrors\u001b[0m\u001b[0;34m.\u001b[0m\u001b[0mOpError\u001b[0m \u001b[0;32mas\u001b[0m \u001b[0me\u001b[0m\u001b[0;34m:\u001b[0m\u001b[0;34m\u001b[0m\u001b[0m\n\u001b[1;32m   1024\u001b[0m       \u001b[0mmessage\u001b[0m \u001b[0;34m=\u001b[0m \u001b[0mcompat\u001b[0m\u001b[0;34m.\u001b[0m\u001b[0mas_text\u001b[0m\u001b[0;34m(\u001b[0m\u001b[0me\u001b[0m\u001b[0;34m.\u001b[0m\u001b[0mmessage\u001b[0m\u001b[0;34m)\u001b[0m\u001b[0;34m\u001b[0m\u001b[0m\n",
      "\u001b[0;32m~/.local/lib/python3.5/site-packages/tensorflow/python/client/session.py\u001b[0m in \u001b[0;36m_run_fn\u001b[0;34m(session, feed_dict, fetch_list, target_list, options, run_metadata)\u001b[0m\n\u001b[1;32m   1002\u001b[0m         return tf_session.TF_Run(session, options,\n\u001b[1;32m   1003\u001b[0m                                  \u001b[0mfeed_dict\u001b[0m\u001b[0;34m,\u001b[0m \u001b[0mfetch_list\u001b[0m\u001b[0;34m,\u001b[0m \u001b[0mtarget_list\u001b[0m\u001b[0;34m,\u001b[0m\u001b[0;34m\u001b[0m\u001b[0m\n\u001b[0;32m-> 1004\u001b[0;31m                                  status, run_metadata)\n\u001b[0m\u001b[1;32m   1005\u001b[0m \u001b[0;34m\u001b[0m\u001b[0m\n\u001b[1;32m   1006\u001b[0m     \u001b[0;32mdef\u001b[0m \u001b[0m_prun_fn\u001b[0m\u001b[0;34m(\u001b[0m\u001b[0msession\u001b[0m\u001b[0;34m,\u001b[0m \u001b[0mhandle\u001b[0m\u001b[0;34m,\u001b[0m \u001b[0mfeed_dict\u001b[0m\u001b[0;34m,\u001b[0m \u001b[0mfetch_list\u001b[0m\u001b[0;34m)\u001b[0m\u001b[0;34m:\u001b[0m\u001b[0;34m\u001b[0m\u001b[0m\n",
      "\u001b[0;31mKeyboardInterrupt\u001b[0m: "
     ]
    }
   ],
   "source": [
    "tokenize('killing people: instruction for cats')"
   ]
  },
  {
   "cell_type": "code",
   "execution_count": 16,
   "metadata": {
    "collapsed": true
   },
   "outputs": [],
   "source": [
    "def translate(phrase):\n",
    "    tokens = tokenize(phrase)\n",
    "    print(tokens)\n",
    "    translation = ''\n",
    "    sep = ''\n",
    "    for token in tokens:\n",
    "        translation += sep + ' '.join([x[0] for x in find_sims(token)])\n",
    "        sep = ' ||| '\n",
    "    return translation"
   ]
  },
  {
   "cell_type": "code",
   "execution_count": 65,
   "metadata": {},
   "outputs": [
    {
     "name": "stdout",
     "output_type": "stream",
     "text": [
      "['killing', 'people instruction', 'cats']\n",
      "💀 ||| 🏫 🎏 👥 ||| 🐈\n"
     ]
    }
   ],
   "source": [
    "print(translate('killing people: instruction for cats'))"
   ]
  },
  {
   "cell_type": "code",
   "execution_count": 66,
   "metadata": {},
   "outputs": [
    {
     "name": "stdout",
     "output_type": "stream",
     "text": [
      "['russian rocket', 'landed', 'pacific', 'ocean']\n",
      "🚀 🇷🇺 ||| 🛬 ||| 🇮🇴 ||| 🌊\n"
     ]
    }
   ],
   "source": [
    "print(translate('Russian rocket landed in pacific ocean'))"
   ]
  },
  {
   "cell_type": "code",
   "execution_count": null,
   "metadata": {},
   "outputs": [
    {
     "name": "stdout",
     "output_type": "stream",
     "text": [
      "['two men', 'killed', 'last night']\n",
      "👨‍👨‍👦‍👦 ||| 💀 🤕 ||| 🌗\n"
     ]
    }
   ],
   "source": [
    "print(translate('two men were cruelly killed last night'))"
   ]
  }
 ],
 "metadata": {
  "kernelspec": {
   "display_name": "Python 3",
   "language": "python",
   "name": "python3"
  },
  "language_info": {
   "codemirror_mode": {
    "name": "ipython",
    "version": 3
   },
   "file_extension": ".py",
   "mimetype": "text/x-python",
   "name": "python",
   "nbconvert_exporter": "python",
   "pygments_lexer": "ipython3",
   "version": "3.5.2"
  }
 },
 "nbformat": 4,
 "nbformat_minor": 2
}
