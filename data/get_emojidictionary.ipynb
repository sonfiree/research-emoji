{
 "cells": [
  {
   "cell_type": "markdown",
   "metadata": {},
   "source": [
    "This notebook is for getting emoji descriptions from site https://emojidictionary.emojifoundation.com"
   ]
  },
  {
   "cell_type": "code",
   "execution_count": 1,
   "metadata": {
    "collapsed": true
   },
   "outputs": [],
   "source": [
    "import urllib\n",
    "from bs4 import *\n",
    "import re"
   ]
  },
  {
   "cell_type": "code",
   "execution_count": 2,
   "metadata": {
    "collapsed": true
   },
   "outputs": [],
   "source": [
    "EMOJI_LINK_REGEXP = re.compile('class=\\\"link-tile\\\" height=\\\"50\\\" href=\\\"\\./(.+)\\\" id=')\n",
    "TAG_REGEXP = re.compile('>(.+?)<')\n",
    "TITLE_REGEXP = re.compile('<title>(.+) Emoji.*</title>')\n",
    "\n",
    "NUM_DEFS_TO_RETREAT = 5\n",
    "DEFS_TO_RETREAT = [\"Noun\", \"Verb\", \"Adjective\"]\n",
    "\n",
    "site = \"https://emojidictionary.emojifoundation.com/\""
   ]
  },
  {
   "cell_type": "code",
   "execution_count": 3,
   "metadata": {
    "collapsed": true
   },
   "outputs": [],
   "source": [
    "def get_links_to_emoji(html_page):\n",
    "    soup = BeautifulSoup(html_page, 'html.parser')\n",
    "    tags = soup('a')\n",
    "    links_to_emoji = []\n",
    "    for tag in tags:\n",
    "        tag = str(tag)\n",
    "        link_to_emoji = re.findall(EMOJI_LINK_REGEXP, tag)\n",
    "        if len(link_to_emoji) == 0:\n",
    "            continue\n",
    "        links_to_emoji.append(link_to_emoji[0])\n",
    "    return links_to_emoji"
   ]
  },
  {
   "cell_type": "code",
   "execution_count": 4,
   "metadata": {
    "collapsed": true,
    "scrolled": true
   },
   "outputs": [],
   "source": [
    "emoji_categories = ['people/',\n",
    " 'nature/',\n",
    " 'food/',\n",
    " 'objects/',\n",
    " 'symbols/',\n",
    " 'flags/',\n",
    " 'places/']"
   ]
  },
  {
   "cell_type": "code",
   "execution_count": 5,
   "metadata": {
    "collapsed": true
   },
   "outputs": [],
   "source": [
    "names_to_emojis = {}\n",
    "with open(\"emojis_all.txt\", \"r\") as file:\n",
    "    lines = file.readlines()\n",
    "    for line in lines:\n",
    "        line = line.split()\n",
    "        name_words = []\n",
    "        for i in range(1, len(line)):\n",
    "            name_words.append(line[i])\n",
    "            if '[' in line[i+1]:\n",
    "                break\n",
    "        name = ' '.join(name_words)\n",
    "        names_to_emojis[name] = line[0]"
   ]
  },
  {
   "cell_type": "code",
   "execution_count": 6,
   "metadata": {
    "collapsed": true
   },
   "outputs": [],
   "source": [
    "def get_emoji_name_and_defs(html_page):\n",
    "    soup = BeautifulSoup(html_page, 'html.parser')\n",
    "    title_tags = soup('title')\n",
    "    title = re.findall(TITLE_REGEXP, str(title_tags))[0]\n",
    "    title = title.split()\n",
    "    smile = title[0].strip()\n",
    "    smile_name = ' '.join([x.strip() for x in title[1:]])\n",
    "    \n",
    "    if smile_name in names_to_emojis:\n",
    "        smile = names_to_emojis[smile_name]\n",
    "    else:\n",
    "        print(\"Damn it:\", smile, smile_name)\n",
    "    \n",
    "    emoji_defs = []\n",
    "    for lines in soup:\n",
    "        lines = str(lines).split('\\n')\n",
    "        for i, line in enumerate(lines):\n",
    "            line = str(line)\n",
    "            if line in [\"<th>{}</th>\".format(DEFS_TO_RETREAT[i]) for i in range(len(DEFS_TO_RETREAT))]:\n",
    "                line_with_defs = lines[i+2]\n",
    "                defs = re.findall(TAG_REGEXP, line_with_defs)\n",
    "                defs = [def_ for def_ in defs if def_ != ' ']\n",
    "                emoji_defs.append(defs[:10])\n",
    "    return smile, smile_name, emoji_defs"
   ]
  },
  {
   "cell_type": "code",
   "execution_count": 12,
   "metadata": {
    "collapsed": true
   },
   "outputs": [],
   "source": [
    "emojis = []"
   ]
  },
  {
   "cell_type": "code",
   "execution_count": 13,
   "metadata": {
    "scrolled": true
   },
   "outputs": [
    {
     "name": "stdout",
     "output_type": "stream",
     "text": [
      "Starting category: people\n"
     ]
    },
    {
     "name": "stderr",
     "output_type": "stream",
     "text": [
      "Some characters could not be decoded, and were replaced with REPLACEMENT CHARACTER.\n"
     ]
    },
    {
     "name": "stdout",
     "output_type": "stream",
     "text": [
      "👨‍👨‍👦\n",
      "👨‍👨‍👧\n",
      "👨‍👨‍👧‍👦\n",
      "👨‍👨‍👧‍👧\n",
      "👨‍👩‍👦‍👦\n",
      "👨‍👩‍👧\n",
      "👨‍👩‍👧‍👦\n",
      "👨‍👩‍👧‍👧\n",
      "👩‍👩‍👦\n",
      "👩‍👩‍👦‍👦\n",
      "👩‍👩‍👧\n",
      "👩‍👩‍👧‍👦\n",
      "👩‍👩‍👧‍👧\n",
      "👨‍👩‍👦\n",
      "👨‍👨‍👦‍👦\n",
      "Damn it: 🤐 Zipper-mouth Face\n",
      "🤐\n",
      "Damn it: 🤑 Money-mouth Face\n",
      "🤑\n",
      "🤒\n",
      "🤓\n",
      "🤔\n",
      "🤕\n",
      "🤖\n",
      "🤗\n",
      "Damn it: 🤘🏽 Sign Of The Horns\n",
      "🤘🏽\n",
      "Damn it: 🕴 Man In Business Suit Levitating\n",
      "🕴\n",
      "🖕\n",
      "Damn it: ⛹ Person Bouncing Ball\n",
      "⛹\n",
      "✍️\n",
      "Damn it: 🏋 Person Lifting Weights\n",
      "🏋\n",
      "Damn it: 🏌 Person Golfing\n",
      "🏌\n",
      "Damn it: ☹ Frowning Face\n",
      "☹\n",
      "Damn it: 🤞 Crossed Fingers\n",
      "🤞\n",
      "🤢\n",
      "Damn it: 🤣 Rolling On The Floor Laughing\n",
      "🤣\n",
      "🤤\n",
      "🤥\n",
      "Damn it: 🤦 Person Facepalming\n",
      "🤦\n",
      "🤧\n",
      "Damn it: 👨‍🏫 Man Teacher\n",
      "👨‍🏫\n",
      "👨‍✈️\n",
      "👩‍🔬\n",
      "👩‍🚒\n",
      "Damn it: 🤠 Cowboy Hat Face\n",
      "🤠\n",
      "👀\n",
      "👂\n",
      "👃\n"
     ]
    },
    {
     "name": "stderr",
     "output_type": "stream",
     "text": [
      "Some characters could not be decoded, and were replaced with REPLACEMENT CHARACTER.\n"
     ]
    },
    {
     "name": "stdout",
     "output_type": "stream",
     "text": [
      "👄\n",
      "👅\n",
      "Damn it: ☝ Index Pointing Up\n",
      "☝\n",
      "Damn it: 👇 Backhand Index Pointing Down\n",
      "👇\n",
      "Damn it: 👈 Backhand Index Pointing Left\n",
      "👈\n",
      "Damn it: 👉 Backhand Index Pointing Right\n",
      "👉\n",
      "Damn it: 👊 Oncoming Fist\n",
      "👊\n",
      "Damn it: 👋 Waving Hand\n",
      "👋\n",
      "Damn it: 👌 OK Hand\n",
      "👌\n",
      "Damn it: 👍 Thumbs Up\n",
      "👍\n",
      "Damn it: 👎 Thumbs Down\n",
      "👎\n",
      "Damn it: 👏 Clapping Hands\n",
      "👏\n",
      "Damn it: 👐 Open Hands\n",
      "👐\n"
     ]
    },
    {
     "name": "stderr",
     "output_type": "stream",
     "text": [
      "Some characters could not be decoded, and were replaced with REPLACEMENT CHARACTER.\n"
     ]
    },
    {
     "name": "stdout",
     "output_type": "stream",
     "text": [
      "👑\n"
     ]
    },
    {
     "name": "stderr",
     "output_type": "stream",
     "text": [
      "Some characters could not be decoded, and were replaced with REPLACEMENT CHARACTER.\n"
     ]
    },
    {
     "name": "stdout",
     "output_type": "stream",
     "text": [
      "Damn it: 👒 Woman�s Hat\n",
      "👒\n",
      "Damn it: 👓 Glasses\n",
      "👓\n",
      "👔\n",
      "Damn it: 👕 T-shirt\n",
      "👕\n",
      "👖\n",
      "👗\n"
     ]
    },
    {
     "name": "stderr",
     "output_type": "stream",
     "text": [
      "Some characters could not be decoded, and were replaced with REPLACEMENT CHARACTER.\n"
     ]
    },
    {
     "name": "stdout",
     "output_type": "stream",
     "text": [
      "👘\n",
      "👙\n",
      "https://emojidictionary.emojifoundation.com/woman%27s_clothes\n",
      "👛\n",
      "👜\n",
      "Damn it: 👝 Clutch Bag\n",
      "👝\n"
     ]
    },
    {
     "name": "stderr",
     "output_type": "stream",
     "text": [
      "Some characters could not be decoded, and were replaced with REPLACEMENT CHARACTER.\n"
     ]
    },
    {
     "name": "stdout",
     "output_type": "stream",
     "text": [
      "Damn it: 👞 Man�s Shoe\n",
      "👞\n",
      "Damn it: 👟 Running Shoe\n",
      "👟\n",
      "Damn it: 👠 High-heeled Shoe\n",
      "👠\n"
     ]
    },
    {
     "name": "stderr",
     "output_type": "stream",
     "text": [
      "Some characters could not be decoded, and were replaced with REPLACEMENT CHARACTER.\n"
     ]
    },
    {
     "name": "stdout",
     "output_type": "stream",
     "text": [
      "Damn it: 👡 Woman�s Sandal\n",
      "👡\n"
     ]
    },
    {
     "name": "stderr",
     "output_type": "stream",
     "text": [
      "Some characters could not be decoded, and were replaced with REPLACEMENT CHARACTER.\n"
     ]
    },
    {
     "name": "stdout",
     "output_type": "stream",
     "text": [
      "Damn it: 👢 Woman�s Boot\n",
      "👢\n"
     ]
    },
    {
     "name": "stderr",
     "output_type": "stream",
     "text": [
      "Some characters could not be decoded, and were replaced with REPLACEMENT CHARACTER.\n"
     ]
    },
    {
     "name": "stdout",
     "output_type": "stream",
     "text": [
      "👣\n",
      "Damn it: 👤 Bust In Silhouette\n",
      "👤\n",
      "Damn it: 👥 Busts In Silhouette\n",
      "👥\n",
      "👦\n",
      "👧\n",
      "👨\n",
      "👩\n",
      "👪\n"
     ]
    },
    {
     "name": "stderr",
     "output_type": "stream",
     "text": [
      "Some characters could not be decoded, and were replaced with REPLACEMENT CHARACTER.\n"
     ]
    },
    {
     "name": "stdout",
     "output_type": "stream",
     "text": [
      "Damn it: 👫 Man And Woman Holding Hands\n",
      "👫\n",
      "👬\n",
      "👭\n",
      "👮\n"
     ]
    },
    {
     "name": "stderr",
     "output_type": "stream",
     "text": [
      "Some characters could not be decoded, and were replaced with REPLACEMENT CHARACTER.\n"
     ]
    },
    {
     "name": "stdout",
     "output_type": "stream",
     "text": [
      "Damn it: 👯 People With Bunny Ears Partying\n",
      "👯\n",
      "👰\n",
      "Damn it: 👱 Blond-haired Person\n",
      "👱\n",
      "Damn it: 👲 Man With Chinese Cap\n",
      "👲\n",
      "Damn it: 👳 Person Wearing Turban\n",
      "👳\n",
      "Damn it: 👴 Old Man\n",
      "👴\n",
      "Damn it: 👵 Old Woman\n",
      "👵\n",
      "👶\n",
      "👷\n",
      "👸\n"
     ]
    },
    {
     "name": "stderr",
     "output_type": "stream",
     "text": [
      "Some characters could not be decoded, and were replaced with REPLACEMENT CHARACTER.\n"
     ]
    },
    {
     "name": "stdout",
     "output_type": "stream",
     "text": [
      "Damn it: 👹 Ogre\n",
      "👹\n",
      "Damn it: 👺 Goblin\n",
      "👺\n"
     ]
    },
    {
     "name": "stderr",
     "output_type": "stream",
     "text": [
      "Some characters could not be decoded, and were replaced with REPLACEMENT CHARACTER.\n"
     ]
    },
    {
     "name": "stdout",
     "output_type": "stream",
     "text": [
      "👻\n",
      "👼\n",
      "Damn it: 👽 Alien\n",
      "👽\n",
      "👾\n",
      "Damn it: 👿 Angry Face With Horns\n",
      "👿\n"
     ]
    },
    {
     "name": "stderr",
     "output_type": "stream",
     "text": [
      "Some characters could not be decoded, and were replaced with REPLACEMENT CHARACTER.\n"
     ]
    },
    {
     "name": "stdout",
     "output_type": "stream",
     "text": [
      "💀\n"
     ]
    },
    {
     "name": "stderr",
     "output_type": "stream",
     "text": [
      "Some characters could not be decoded, and were replaced with REPLACEMENT CHARACTER.\n"
     ]
    },
    {
     "name": "stdout",
     "output_type": "stream",
     "text": [
      "Damn it: 💁 Person Tipping Hand\n",
      "💁\n",
      "Damn it: 💂 Guard\n",
      "💂\n",
      "Damn it: 💃 Woman Dancing\n",
      "💃\n",
      "💄\n",
      "💅\n",
      "Damn it: 💆 Person Getting Massage\n",
      "💆\n",
      "Damn it: 💇 Person Getting Haircut\n",
      "💇\n",
      "💋\n",
      "💌\n",
      "💍\n"
     ]
    },
    {
     "name": "stderr",
     "output_type": "stream",
     "text": [
      "Some characters could not be decoded, and were replaced with REPLACEMENT CHARACTER.\n"
     ]
    },
    {
     "name": "stdout",
     "output_type": "stream",
     "text": [
      "Damn it: ☺ Smiling Face\n",
      "☺\n",
      "💏\n",
      "💐\n",
      "💑\n",
      "Damn it: 💤 Zzz\n",
      "💤\n",
      "Damn it: 💥 Collision\n",
      "💥\n",
      "Damn it: 💨 Dashing Away\n",
      "💨\n"
     ]
    },
    {
     "name": "stderr",
     "output_type": "stream",
     "text": [
      "Some characters could not be decoded, and were replaced with REPLACEMENT CHARACTER.\n"
     ]
    },
    {
     "name": "stdout",
     "output_type": "stream",
     "text": [
      "Damn it: 💩 Pile Of Poo\n",
      "💩\n",
      "💪\n",
      "Damn it: 💫 Dizzy\n",
      "💫\n",
      "💬\n",
      "💭\n"
     ]
    },
    {
     "name": "stderr",
     "output_type": "stream",
     "text": [
      "Some characters could not be decoded, and were replaced with REPLACEMENT CHARACTER.\n"
     ]
    },
    {
     "name": "stdout",
     "output_type": "stream",
     "text": [
      "😀\n"
     ]
    },
    {
     "name": "stderr",
     "output_type": "stream",
     "text": [
      "Some characters could not be decoded, and were replaced with REPLACEMENT CHARACTER.\n"
     ]
    },
    {
     "name": "stdout",
     "output_type": "stream",
     "text": [
      "😁\n"
     ]
    },
    {
     "name": "stderr",
     "output_type": "stream",
     "text": [
      "Some characters could not be decoded, and were replaced with REPLACEMENT CHARACTER.\n"
     ]
    },
    {
     "name": "stdout",
     "output_type": "stream",
     "text": [
      "Damn it: 😂 Face With Tears Of Joy\n",
      "😂\n",
      "😃\n",
      "Damn it: 😄 Smiling Face With Open Mouth &amp; Smiling Eyes\n",
      "😄\n"
     ]
    },
    {
     "name": "stderr",
     "output_type": "stream",
     "text": [
      "Some characters could not be decoded, and were replaced with REPLACEMENT CHARACTER.\n"
     ]
    },
    {
     "name": "stdout",
     "output_type": "stream",
     "text": [
      "Damn it: 😃 Smiling Face With Open Mouth &amp; Cold Sweat\n",
      "😃\n",
      "Damn it: 😆 Smiling Face With Open Mouth &amp; Closed Eyes\n",
      "😆\n"
     ]
    },
    {
     "name": "stderr",
     "output_type": "stream",
     "text": [
      "Some characters could not be decoded, and were replaced with REPLACEMENT CHARACTER.\n"
     ]
    },
    {
     "name": "stdout",
     "output_type": "stream",
     "text": [
      "😇\n"
     ]
    },
    {
     "name": "stderr",
     "output_type": "stream",
     "text": [
      "Some characters could not be decoded, and were replaced with REPLACEMENT CHARACTER.\n"
     ]
    },
    {
     "name": "stdout",
     "output_type": "stream",
     "text": [
      "😈\n",
      "😉\n",
      "😊\n",
      "😋\n",
      "😌\n",
      "Damn it: 😍 Smiling Face With Heart-eyes\n",
      "😍\n"
     ]
    },
    {
     "name": "stderr",
     "output_type": "stream",
     "text": [
      "Some characters could not be decoded, and were replaced with REPLACEMENT CHARACTER.\n"
     ]
    },
    {
     "name": "stdout",
     "output_type": "stream",
     "text": [
      "😎\n",
      "😏\n",
      "😐\n",
      "😑\n",
      "😏\n",
      "😓\n",
      "😔\n",
      "😕\n",
      "😖\n",
      "😙\n",
      "Damn it: 😘 Face Blowing A Kiss\n",
      "😘\n",
      "😗\n",
      "😚\n",
      "Damn it: 😛 Face With Stuck-out Tongue\n",
      "😛\n"
     ]
    },
    {
     "name": "stderr",
     "output_type": "stream",
     "text": [
      "Some characters could not be decoded, and were replaced with REPLACEMENT CHARACTER.\n"
     ]
    },
    {
     "name": "stdout",
     "output_type": "stream",
     "text": [
      "Damn it: 😜 Face With Stuck-out Tongue &amp; Winking Eye\n",
      "😜\n",
      "Damn it: 😝 Face With Stuck-out Tongue &amp; Closed Eyes\n",
      "😝\n",
      "😞\n",
      "😟\n",
      "😠\n"
     ]
    },
    {
     "name": "stderr",
     "output_type": "stream",
     "text": [
      "Some characters could not be decoded, and were replaced with REPLACEMENT CHARACTER.\n"
     ]
    },
    {
     "name": "stdout",
     "output_type": "stream",
     "text": [
      "😡\n",
      "😢\n"
     ]
    },
    {
     "name": "stderr",
     "output_type": "stream",
     "text": [
      "Some characters could not be decoded, and were replaced with REPLACEMENT CHARACTER.\n"
     ]
    },
    {
     "name": "stdout",
     "output_type": "stream",
     "text": [
      "😣\n",
      "Damn it: 😤 Face With Steam From Nose\n",
      "😤\n",
      "Damn it: 😥 Disappointed But Relieved Face\n",
      "😥\n",
      "😦\n"
     ]
    },
    {
     "name": "stderr",
     "output_type": "stream",
     "text": [
      "Some characters could not be decoded, and were replaced with REPLACEMENT CHARACTER.\n"
     ]
    },
    {
     "name": "stdout",
     "output_type": "stream",
     "text": [
      "😧\n",
      "😨\n",
      "😩\n",
      "😪\n",
      "😫\n"
     ]
    },
    {
     "name": "stderr",
     "output_type": "stream",
     "text": [
      "Some characters could not be decoded, and were replaced with REPLACEMENT CHARACTER.\n"
     ]
    },
    {
     "name": "stdout",
     "output_type": "stream",
     "text": [
      "😬\n",
      "😭\n",
      "😮\n",
      "😯\n",
      "Damn it: 😰 Face With Open Mouth &amp; Cold Sweat\n",
      "😰\n",
      "Damn it: 😱 Face Screaming In Fear\n",
      "😱\n",
      "😵\n",
      "😳\n",
      "😴\n",
      "😵\n"
     ]
    },
    {
     "name": "stderr",
     "output_type": "stream",
     "text": [
      "Some characters could not be decoded, and were replaced with REPLACEMENT CHARACTER.\n"
     ]
    },
    {
     "name": "stdout",
     "output_type": "stream",
     "text": [
      "😶\n",
      "😷\n",
      "😸\n",
      "Damn it: 😹 Cat Face With Tears Of Joy\n",
      "😹\n",
      "😺\n",
      "Damn it: 😻 Smiling Cat Face With Heart-eyes\n",
      "😻\n",
      "😼\n",
      "😽\n"
     ]
    },
    {
     "name": "stderr",
     "output_type": "stream",
     "text": [
      "Some characters could not be decoded, and were replaced with REPLACEMENT CHARACTER.\n"
     ]
    },
    {
     "name": "stdout",
     "output_type": "stream",
     "text": [
      "😾\n",
      "😿\n",
      "🙀\n",
      "Damn it: 🙅 Person Gesturing NO\n",
      "🙅\n",
      "Damn it: 🙆 Person Gesturing OK\n",
      "🙆\n",
      "🙇‍♂️\n",
      "Damn it: 🙈 See-no-evil Monkey\n",
      "🙈\n",
      "Damn it: 🙈 See-no-evil Monkey\n",
      "🙈\n",
      "Damn it: 🙊 Speak-no-evil Monkey\n",
      "🙊\n",
      "Damn it: 🙋 Person Raising Hand\n",
      "🙋\n",
      "Damn it: 🙌 Raising Hands\n",
      "🙌\n",
      "🙍\n",
      "Damn it: 🙎 Person Pouting\n",
      "🙎\n",
      "Damn it: 🙏 Folded Hands\n",
      "🙏\n",
      "Damn it: 🚶 Person Walking\n",
      "🚶\n",
      "✊\n",
      "🖐️\n",
      "✌️\n",
      "Starting category: nature\n",
      "❄️\n",
      "🦀\n",
      "🦁\n",
      "🦂\n",
      "🦃\n",
      "🦄\n",
      "Damn it: 🌩 Cloud With Lightning And Rain\n",
      "🌩\n",
      "🕷️\n",
      "🕸️\n",
      "Damn it: 🌤 Sun Behind Small Cloud\n",
      "🌤\n",
      "⛅\n",
      "🌧️\n",
      "🌨️\n",
      "🌩️\n",
      "Damn it: 🌪 Tornado\n",
      "🌪\n",
      "🌫️\n",
      "Damn it: 🌬 Wind Face\n",
      "🌬\n",
      "Damn it: ☀ Sun\n",
      "☀\n",
      "☁️\n",
      "🍄\n",
      "☃️\n",
      "☄️\n",
      "Damn it: 🦈 Shark\n",
      "🦈\n",
      "🦊\n",
      "🦉\n",
      "🦋\n",
      "⭐\n",
      "🌀\n",
      "🌁\n",
      "🌈\n",
      "🌊\n",
      "🌌\n",
      "🌌\n",
      "Damn it: 🌍 Globe Showing Europe-Africa\n",
      "🌍\n",
      "Damn it: 🌎 Globe Showing Americas\n",
      "🌎\n",
      "Damn it: 🌏 Globe Showing Asia-Australia\n",
      "🌏\n",
      "🌐\n",
      "Damn it: 🌑 New Moon\n",
      "🌑\n",
      "Damn it: 🌒 Waxing Crescent Moon\n",
      "🌒\n",
      "Damn it: 🌓 First Quarter Moon\n",
      "🌓\n",
      "Damn it: 🌔 Waxing Gibbous Moon\n",
      "🌔\n",
      "Damn it: 🌕 Full Moon\n",
      "🌕\n",
      "Damn it: 🌖 Waning Gibbous Moon\n",
      "🌖\n",
      "Damn it: 🌗 Last Quarter Moon\n",
      "🌗\n",
      "Damn it: 🌘 Waning Crescent Moon\n",
      "🌘\n",
      "🌙\n"
     ]
    },
    {
     "name": "stderr",
     "output_type": "stream",
     "text": [
      "Some characters could not be decoded, and were replaced with REPLACEMENT CHARACTER.\n"
     ]
    },
    {
     "name": "stdout",
     "output_type": "stream",
     "text": [
      "Damn it: 🌚 New Moon Face\n",
      "🌚\n",
      "🌛\n",
      "🌜\n",
      "🌝\n",
      "🌞\n",
      "🌟\n",
      "🌠\n",
      "🌰\n",
      "🌱\n",
      "🌲\n",
      "🌳\n",
      "🌴\n",
      "🌵\n",
      "🌷\n",
      "🌸\n",
      "🌹\n"
     ]
    },
    {
     "name": "stderr",
     "output_type": "stream",
     "text": [
      "Some characters could not be decoded, and were replaced with REPLACEMENT CHARACTER.\n"
     ]
    },
    {
     "name": "stdout",
     "output_type": "stream",
     "text": [
      "🌺\n",
      "🌻\n",
      "🌼\n",
      "Damn it: 🌽 Ear Of Corn\n",
      "🌽\n",
      "Damn it: 🌾 Sheaf Of Rice\n",
      "🌾\n",
      "🌿\n",
      "🍀\n",
      "🍁\n",
      "🍂\n",
      "Damn it: 🍃 Leaf Fluttering In Wind\n",
      "🍃\n",
      "🍄\n",
      "🐀\n",
      "🐁\n",
      "🐂\n",
      "🐃\n",
      "🐄\n",
      "🐅\n",
      "🐆\n",
      "🐇\n",
      "🐈\n",
      "🐉\n",
      "🐊\n",
      "🐋\n",
      "🐌\n",
      "🐍\n",
      "🐎\n",
      "🐏\n",
      "🐐\n",
      "🐑\n",
      "🐒\n",
      "🐓\n",
      "🐔\n",
      "🐕\n",
      "🐖\n",
      "🐗\n",
      "🐘\n",
      "🐙\n",
      "🐚\n",
      "🐛\n",
      "🐜\n",
      "🐝\n",
      "🐞\n",
      "🐟\n",
      "🐠\n",
      "🐡\n",
      "🐢\n",
      "🐣\n",
      "🐤\n",
      "Damn it: 🐥 Front-facing Baby Chick\n",
      "🐥\n",
      "🐦\n",
      "🐧\n",
      "🐨\n",
      "🐩\n",
      "Damn it: 🐪 Camel\n",
      "🐪\n",
      "Damn it: 🐫 Two-hump Camel\n",
      "🐫\n",
      "🐬\n",
      "🐭\n",
      "🐮\n"
     ]
    },
    {
     "name": "stderr",
     "output_type": "stream",
     "text": [
      "Some characters could not be decoded, and were replaced with REPLACEMENT CHARACTER.\n"
     ]
    },
    {
     "name": "stdout",
     "output_type": "stream",
     "text": [
      "🐯\n",
      "🐰\n",
      "🐱\n",
      "🐲\n",
      "🐳\n"
     ]
    },
    {
     "name": "stderr",
     "output_type": "stream",
     "text": [
      "Some characters could not be decoded, and were replaced with REPLACEMENT CHARACTER.\n"
     ]
    },
    {
     "name": "stdout",
     "output_type": "stream",
     "text": [
      "🐴\n",
      "🐵\n",
      "🐶\n",
      "🐷\n",
      "🐸\n",
      "🐹\n",
      "🐺\n",
      "🐻\n",
      "🐼\n",
      "🐽\n",
      "🐾\n",
      "Damn it: 💦 Sweat Droplets\n",
      "💦\n",
      "💧\n",
      "Damn it: ⚡ High Voltage\n",
      "⚡\n",
      "⛄\n",
      "⛅\n",
      "Starting category: food\n",
      "🧀\n",
      "🌭\n",
      "🌮\n",
      "🌯\n",
      "🍉\n",
      "🍿\n",
      "🥐\n",
      "🥑\n"
     ]
    },
    {
     "name": "stderr",
     "output_type": "stream",
     "text": [
      "Some characters could not be decoded, and were replaced with REPLACEMENT CHARACTER.\n"
     ]
    },
    {
     "name": "stdout",
     "output_type": "stream",
     "text": [
      "🥓\n",
      "🍅\n"
     ]
    },
    {
     "name": "stderr",
     "output_type": "stream",
     "text": [
      "Some characters could not be decoded, and were replaced with REPLACEMENT CHARACTER.\n"
     ]
    },
    {
     "name": "stdout",
     "output_type": "stream",
     "text": [
      "🍆\n",
      "🍇\n",
      "🍈\n",
      "🍉\n",
      "🍊\n",
      "🍋\n",
      "🍌\n",
      "🍍\n",
      "🍎\n",
      "🍏\n",
      "🍐\n",
      "🍑\n",
      "🍒\n",
      "🍓\n",
      "🍔\n",
      "Damn it: 🍕 Pizza\n",
      "🍕\n",
      "Damn it: 🍖 Meat On Bone\n",
      "🍖\n",
      "🍗\n",
      "🍘\n",
      "🍙\n",
      "🍚\n",
      "Damn it: 🍛 Curry Rice\n",
      "🍛\n",
      "🍜\n",
      "🍝\n",
      "🍞\n",
      "🍟\n",
      "🍠\n",
      "🍡\n",
      "🍢\n",
      "🍣\n",
      "🍤\n",
      "Damn it: 🍥 Fish Cake With Swirl\n",
      "🍥\n",
      "🍦\n",
      "🍧\n",
      "🍨\n",
      "Damn it: 🍩 Doughnut\n",
      "🍩\n"
     ]
    },
    {
     "name": "stderr",
     "output_type": "stream",
     "text": [
      "Some characters could not be decoded, and were replaced with REPLACEMENT CHARACTER.\n"
     ]
    },
    {
     "name": "stdout",
     "output_type": "stream",
     "text": [
      "🍪\n",
      "🍫\n",
      "🍬\n",
      "🍭\n",
      "🍮\n",
      "🍯\n",
      "🍰\n",
      "🍱\n",
      "Damn it: 🍲 Pot Of Food\n",
      "🍲\n",
      "🍳\n",
      "Damn it: 🍴 Fork And Knife\n",
      "🍴\n",
      "🍵\n",
      "Damn it: 🍶 Sake\n",
      "🍶\n",
      "🍷\n",
      "🍸\n",
      "🍹\n",
      "🍺\n",
      "🍻\n",
      "🍼\n",
      "Starting category: objects\n",
      "Damn it: 🛋 Couch And Lamp\n",
      "🛋\n",
      "Damn it: 🛌 Person In Bed\n",
      "🛌\n",
      "🛍️\n",
      "🛎️\n",
      "🛏️\n",
      "Damn it: 🛠 Hammer And Wrench\n",
      "🛠\n",
      "🛡️\n",
      "🛢️\n",
      "⚔️\n",
      "Damn it: ⚖ Balance Scale\n",
      "⚖\n",
      "⚗️\n",
      "⚙️\n",
      "⚰️\n",
      "⛏️\n",
      "https://emojidictionary.emojifoundation.com/rescue_worker%27s_helmet\n",
      "⛓️\n",
      "Damn it: 🕶 Sunglasses\n",
      "🕶\n",
      "⛸️\n",
      "🕹️\n",
      "🖇️\n",
      "✝️\n",
      "🌡️\n",
      "🎖️\n",
      "🎗️\n",
      "🎙️\n",
      "🎚️\n",
      "🎛️\n",
      "Damn it: 🏍 Motorcycle\n",
      "🏍\n",
      "🏎️\n",
      "Damn it: 🏏 Cricket\n",
      "🏏\n",
      "🏐\n",
      "Damn it: 🏑 Field Hockey\n",
      "🏑\n",
      "Damn it: 🏒 Ice Hockey\n",
      "🏒\n",
      "Damn it: 🏓 Ping Pong\n",
      "🏓\n",
      "🏷️\n",
      "Damn it: 🏸 Badminton\n",
      "🏸\n",
      "Damn it: 🏹 Bow And Arrow\n",
      "🏹\n",
      "🏺\n",
      "Damn it: ⚒ Hammer And Pick\n",
      "⚒\n",
      "⚓\n",
      "Damn it: notinuse 109\n",
      "notinuse\n",
      "Damn it: 🀄 Mahjong Red Dragon\n",
      "🀄\n",
      "Damn it: 🃏 Joker\n",
      "🃏\n",
      "🌂\n",
      "⌚\n",
      "⌛\n",
      "🎀\n",
      "Damn it: 🎁 Wrapped Gift\n",
      "🎁\n",
      "🎂\n",
      "Damn it: 🎃 Jack-o-lantern\n",
      "🎃\n",
      "🎄\n",
      "Damn it: 🎅 Santa Claus\n",
      "🎅\n",
      "🎆\n",
      "Damn it: 🎇 Sparkler\n",
      "🎇\n",
      "🎈\n",
      "🎉\n",
      "🎊\n",
      "🎋\n",
      "🎌\n",
      "🎍\n",
      "🎎\n",
      "🎏\n",
      "🎐\n",
      "🎑\n",
      "Damn it: 🎒 School Backpack\n",
      "🎒\n",
      "🎓\n",
      "Damn it: 🎣 Fishing Pole\n",
      "🎣\n",
      "🎤\n",
      "🎥\n",
      "🎦\n",
      "🎧\n",
      "🎨\n",
      "🎩\n",
      "🎪\n",
      "🎫\n",
      "🎬\n",
      "🎭\n",
      "🎮\n",
      "🎯\n",
      "🎰\n",
      "Damn it: 🎱 Pool 8 Ball\n",
      "🎱\n",
      "🎲\n",
      "⏰\n",
      "🎳\n",
      "🎴\n",
      "🎵\n",
      "Damn it: 🎶 Musical Notes\n",
      "🎶\n",
      "🎷\n",
      "🎸\n",
      "🎹\n",
      "🎺\n",
      "🎻\n",
      "🎼\n",
      "⏳\n",
      "Damn it: 🎽 Running Shirt\n",
      "🎽\n",
      "Damn it: 🎾 Tennis\n",
      "🎾\n",
      "Damn it: 🎿 Skis\n",
      "🎿\n",
      "Damn it: 🏀 Basketball\n",
      "🏀\n",
      "🏁\n",
      "🏂\n",
      "Damn it: 🏃 Person Running\n",
      "🏃\n",
      "Damn it: 🏄 Person Surfing\n",
      "🏄\n",
      "🏆\n",
      "🏇\n",
      "🏈\n",
      "🏉\n",
      "Damn it: 🏊 Person Swimming\n",
      "🏊\n",
      "Damn it: ☀ Sun\n",
      "☀\n",
      "☁️\n",
      "Damn it: ☎ Telephone\n",
      "☎\n",
      "☔\n",
      "☕\n",
      "Damn it: ☝ Index Pointing Up\n",
      "☝\n",
      "💉\n",
      "💊\n",
      "Damn it: 💠 Diamond With A Dot\n",
      "💠\n",
      "Damn it: 💡 Light Bulb\n",
      "💡\n",
      "💢\n",
      "💣\n",
      "💰\n",
      "💳\n",
      "Damn it: 💴 Yen Banknote\n",
      "💴\n",
      "Damn it: 💵 Dollar Banknote\n",
      "💵\n",
      "Damn it: 💶 Euro Banknote\n",
      "💶\n",
      "Damn it: 💷 Pound Banknote\n",
      "💷\n",
      "💸\n",
      "💺\n",
      "Damn it: 💻 Laptop Computer\n",
      "💻\n",
      "💼\n",
      "Damn it: 💽 Computer Disk\n",
      "💽\n",
      "💾\n",
      "Damn it: 💿 Optical Disk\n",
      "💿\n",
      "Damn it: 📀 Dvd\n",
      "📀\n",
      "📁\n",
      "📂\n",
      "📃\n",
      "📄\n",
      "📅\n",
      "Damn it: 📆 Tear-off Calendar\n",
      "📆\n",
      "📇\n",
      "Damn it: 📈 Chart Increasing\n",
      "📈\n",
      "Damn it: 📉 Chart Decreasing\n",
      "📉\n",
      "📊\n",
      "📋\n",
      "📌\n",
      "📍\n",
      "📎\n",
      "📏\n",
      "📐\n",
      "📑\n",
      "Damn it: 📒 Ledger\n",
      "📒\n",
      "📓\n",
      "📔\n",
      "📕\n",
      "📖\n",
      "📗\n",
      "📘\n",
      "📙\n",
      "📚\n",
      "📛\n",
      "📜\n",
      "📝\n",
      "📞\n",
      "📟\n",
      "📠\n",
      "📡\n",
      "Damn it: 📢 Loudspeaker\n",
      "📢\n",
      "Damn it: 📣 Megaphone\n",
      "📣\n",
      "📤\n",
      "📥\n",
      "📦\n",
      "Damn it: 📧 E-mail\n",
      "📧\n",
      "📨\n",
      "Damn it: 📩 Envelope With Arrow\n",
      "📩\n",
      "📪\n",
      "📫\n",
      "📬\n",
      "📭\n",
      "📮\n",
      "📯\n",
      "📰\n",
      "📱\n",
      "Damn it: 📲 Mobile Phone With Arrow\n",
      "📲\n",
      "📷\n",
      "📹\n",
      "📺\n",
      "📻\n",
      "📼\n",
      "Damn it: 🔅 Dim Button\n",
      "🔅\n",
      "Damn it: 🔆 Bright Button\n",
      "🔆\n",
      "Damn it: 🔇 Muted Speaker\n",
      "🔇\n",
      "Damn it: 🔈 Speaker Low Volume\n",
      "🔈\n",
      "Damn it: 🔉 Speaker Medium Volume\n",
      "🔉\n",
      "Damn it: 🔊 Speaker High Volume\n",
      "🔊\n",
      "🔋\n",
      "🔌\n",
      "Damn it: 🔍 Left-pointing Magnifying Glass\n",
      "🔍\n",
      "Damn it: 🔎 Right-pointing Magnifying Glass\n",
      "🔎\n",
      "Damn it: 🔏 Locked With Pen\n",
      "🔏\n",
      "Damn it: 🔐 Locked With Key\n",
      "🔐\n",
      "🔑\n",
      "Damn it: 🔒 Locked\n",
      "🔒\n",
      "Damn it: 🔓 Unlocked\n",
      "🔓\n",
      "🔔\n",
      "Damn it: 🔕 Bell With Slash\n",
      "🔕\n",
      "🔖\n",
      "Damn it: 🔗 Link\n",
      "🔗\n",
      "🔥\n",
      "Damn it: 🔦 Flashlight\n",
      "🔦\n",
      "🔧\n",
      "🔨\n",
      "Damn it: 🔩 Nut And Bolt\n",
      "🔩\n",
      "Damn it: 🔪 Kitchen Knife\n",
      "🔪\n",
      "🔫\n",
      "🔬\n",
      "🔭\n",
      "🔮\n",
      "⚽\n",
      "🚪\n",
      "Damn it: 🚬 Cigarette\n",
      "🚬\n",
      "🚲\n",
      "Damn it: 🚴 Person Biking\n",
      "🚴\n",
      "Damn it: ⛳ Flag In Hole\n",
      "⛳\n",
      "Damn it: 🚵 Person Mountain Biking\n",
      "🚵\n",
      "🚽\n",
      "🚿\n",
      "Damn it: 🛀 Person Taking Bath\n",
      "🛀\n",
      "🛁\n",
      "⛽\n",
      "Damn it: ✂ Scissors\n",
      "✂\n",
      "✉️\n",
      "✏️\n",
      "✒️\n",
      "Starting category: symbols\n"
     ]
    },
    {
     "name": "stderr",
     "output_type": "stream",
     "text": [
      "Some characters could not be decoded, and were replaced with REPLACEMENT CHARACTER.\n"
     ]
    },
    {
     "name": "stdout",
     "output_type": "stream",
     "text": [
      "Damn it: #️⃣ Keycap: #\n",
      "#️⃣\n",
      "Damn it: 8️⃣ Keycap: 8\n",
      "8️⃣\n",
      "Damn it: ✴ Eight-pointed Star\n",
      "✴\n",
      "❇️\n",
      "❌\n",
      "Damn it: ❎ Cross Mark Button\n",
      "❎\n",
      "Damn it: ❓ Question Mark\n",
      "❓\n",
      "Damn it: ❔ White Question Mark\n",
      "❔\n",
      "Damn it: ❕ White Exclamation Mark\n",
      "❕\n",
      "Damn it: ❗ Exclamation Mark\n",
      "❗\n",
      "Damn it: 🛐 Place Of Worship\n",
      "🛐\n",
      "Damn it: ♥ Heart Suit\n",
      "♥\n",
      "Damn it: 9️⃣ Keycap: 9\n",
      "9️⃣\n",
      "➕\n",
      "➖\n",
      "Damn it: ⚜ Fleur-de-lis\n",
      "⚜\n",
      "Damn it: ⚠ Warning\n",
      "⚠\n",
      "➗\n",
      "Damn it: ➡ Right Arrow\n",
      "➡\n",
      "➰\n",
      "➿\n",
      "Damn it: ☠ Skull And Crossbones\n",
      "☠\n",
      "Damn it: ☢ Radioactive\n",
      "☢\n",
      "Damn it: ⤴ Right Arrow Curving Up\n",
      "⤴\n",
      "Damn it: ☣ Biohazard\n",
      "☣\n",
      "☦️\n",
      "Damn it: ☪ Star And Crescent\n",
      "☪\n",
      "☮️\n",
      "Damn it: ⤵ Right Arrow Curving Down\n",
      "⤵\n",
      "☯️\n",
      "Damn it: ☸ Wheel Of Dharma\n",
      "☸\n",
      "Damn it: ⬅ Left Arrow\n",
      "⬅\n",
      "Damn it: ⬆ Up Arrow\n",
      "⬆\n",
      "Damn it: © Copyright\n",
      "©\n",
      "Damn it: ⬇ Down Arrow\n",
      "⬇\n",
      "⬛\n",
      "⬜\n",
      "⭕\n",
      "Damn it: 〰 Wavy Dash\n",
      "〰\n",
      "〽️\n",
      "Damn it: ㊗ Japanese Congratulations Button\n",
      "㊗\n",
      "Damn it: ㊙ Japanese Secret Button\n",
      "㊙\n",
      "Damn it: ® Registered\n",
      "®\n",
      "Damn it: 🅰 A Button (blood Type)\n",
      "🅰\n",
      "Damn it: 🅱 B Button (blood Type)\n",
      "🅱\n",
      "Damn it: 🅾 O Button (blood Type)\n",
      "🅾\n",
      "Damn it: 🅿 P Button\n",
      "🅿\n",
      "Damn it: 🆎 AB Button (blood Type)\n",
      "🆎\n",
      "Damn it: 🆑 CL Button\n",
      "🆑\n",
      "Damn it: 🆒 COOL Button\n",
      "🆒\n",
      "Damn it: 🆓 FREE Button\n",
      "🆓\n",
      "‼️\n",
      "Damn it: 🆔 ID Button\n",
      "🆔\n",
      "Damn it: 🆕 NEW Button\n",
      "🆕\n",
      "Damn it: 🆖 NG Button\n",
      "🆖\n",
      "Damn it: 🆗 OK Button\n",
      "🆗\n",
      "Damn it: 🆘 SOS Button\n",
      "🆘\n",
      "Damn it: 🆙 UP! Button\n",
      "🆙\n",
      "Damn it: 🆚 VS Button\n",
      "🆚\n",
      "⁉️\n",
      "Damn it: 🈁 Japanese Here Button\n",
      "🈁\n",
      "Damn it: 🈂 Japanese Service Charge Button\n",
      "🈂\n",
      "Damn it: 🈚 Japanese Free Of Charge Button\n",
      "🈚\n",
      "Damn it: ™ Trade Mark\n",
      "™\n",
      "Damn it: 🈯 Japanese Reserved Button\n",
      "🈯\n",
      "Damn it: 🈲 Japanese Prohibited Button\n",
      "🈲\n",
      "Damn it: 🈳 Japanese Vacancy Button\n",
      "🈳\n",
      "Damn it: 🈴 Japanese Passing Grade Button\n",
      "🈴\n",
      "Damn it: 🈲 Japanese Prohibited Button\n",
      "🈲\n",
      "Damn it: 🈶 Japanese Not Free Of Charge Button\n",
      "🈶\n",
      "Damn it: 🈷 Japanese Monthly Amount Button\n",
      "🈷\n",
      "Damn it: 🈸 Japanese Application Button\n",
      "🈸\n",
      "Damn it: 🈹 Japanese Discount Button\n",
      "🈹\n",
      "Damn it: 🈺 Japanese Open For Business Button\n",
      "🈺\n",
      "Damn it: ℹ Information\n",
      "ℹ\n",
      "Damn it: 🉐 Japanese Bargain Button\n",
      "🉐\n",
      "Damn it: 🉑 Japanese Acceptable Button\n",
      "🉑\n",
      "Damn it: ↔ Left-right Arrow\n",
      "↔\n",
      "Damn it: ↕ Up-down Arrow\n",
      "↕\n",
      "Damn it: 0️⃣ Keycap: 0\n",
      "0️⃣\n",
      "Damn it: ↖ Up-left Arrow\n",
      "↖\n",
      "Damn it: ↗ Up-right Arrow\n",
      "↗\n",
      "Damn it: ↘ Down-right Arrow\n",
      "↘\n",
      "Damn it: ↙ Down-left Arrow\n",
      "↙\n",
      "Damn it: ↩ Right Arrow Curving Left\n",
      "↩\n",
      "Damn it: ↪ Left Arrow Curving Right\n",
      "↪\n",
      "Damn it: ⏩ Fast-forward Button\n",
      "⏩\n",
      "Damn it: ⏪ Fast Reverse Button\n",
      "⏪\n",
      "Damn it: 1️⃣ Keycap: 1\n",
      "1️⃣\n",
      "Damn it: ⏫ Fast Up Button\n",
      "⏫\n",
      "Damn it: ⏬ Fast Down Button\n",
      "⏬\n",
      "Damn it: Ⓜ Circled M\n",
      "Ⓜ\n",
      "Damn it: ◾ Black Medium-small Square\n",
      "◾\n",
      "Damn it: ◽ White Medium-small Square\n",
      "◽\n",
      "Damn it: ▶ Play Button\n",
      "▶\n",
      "Damn it: ◀ Reverse Button\n",
      "◀\n",
      "◻️\n",
      "Damn it: 2️⃣ Keycap: 2\n",
      "2️⃣\n",
      "◼️\n",
      "◻️\n",
      "◼️\n",
      "☑️\n",
      "Damn it: 3️⃣ Keycap: 3\n",
      "3️⃣\n",
      "💓\n",
      "💔\n",
      "💕\n"
     ]
    },
    {
     "name": "stderr",
     "output_type": "stream",
     "text": [
      "Some characters could not be decoded, and were replaced with REPLACEMENT CHARACTER.\n"
     ]
    },
    {
     "name": "stdout",
     "output_type": "stream",
     "text": [
      "💖\n"
     ]
    },
    {
     "name": "stderr",
     "output_type": "stream",
     "text": [
      "Some characters could not be decoded, and were replaced with REPLACEMENT CHARACTER.\n"
     ]
    },
    {
     "name": "stdout",
     "output_type": "stream",
     "text": [
      "💗\n",
      "♈\n"
     ]
    },
    {
     "name": "stderr",
     "output_type": "stream",
     "text": [
      "Some characters could not be decoded, and were replaced with REPLACEMENT CHARACTER.\n"
     ]
    },
    {
     "name": "stdout",
     "output_type": "stream",
     "text": [
      "💘\n"
     ]
    },
    {
     "name": "stderr",
     "output_type": "stream",
     "text": [
      "Some characters could not be decoded, and were replaced with REPLACEMENT CHARACTER.\n"
     ]
    },
    {
     "name": "stdout",
     "output_type": "stream",
     "text": [
      "💙\n",
      "💚\n",
      "💛\n",
      "💜\n",
      "💝\n",
      "💞\n",
      "💟\n",
      "♉\n",
      "♊\n",
      "💮\n",
      "Damn it: 💯 Hundred Points\n",
      "💯\n",
      "Damn it: 💱 Currency Exchange\n",
      "💱\n",
      "Damn it: 💲 Heavy Dollar Sign\n",
      "💲\n",
      "♋\n",
      "Damn it: 💹 Chart Increasing With Yen\n",
      "💹\n",
      "♌\n",
      "♍\n",
      "♎\n",
      "♏\n",
      "♐\n",
      "Damn it: 4️⃣ Keycap: 4\n",
      "4️⃣\n",
      "♑\n",
      "📳\n",
      "📴\n",
      "Damn it: 📵 No Mobile Phones\n",
      "📵\n",
      "Damn it: 📶 Antenna Bars\n",
      "📶\n",
      "♒\n",
      "Damn it: 🔀 Shuffle Tracks Button\n",
      "🔀\n",
      "Damn it: 🔁 Repeat Button\n",
      "🔁\n",
      "Damn it: 🔂 Repeat Single Button\n",
      "🔂\n",
      "Damn it: 🔃 Clockwise Vertical Arrows\n",
      "🔃\n",
      "Damn it: 🔄 Anticlockwise Arrows Button\n",
      "🔄\n",
      "♓\n",
      "Damn it: ♠ Spade Suit\n",
      "♠\n",
      "Damn it: 🔘 Radio Button\n",
      "🔘\n",
      "Damn it: 🔙 BACK Arrow\n",
      "🔙\n",
      "Damn it: 🔚 END Arrow\n",
      "🔚\n",
      "Damn it: 🔛 ON! Arrow\n",
      "🔛\n",
      "Damn it: 🔜 SOON Arrow\n",
      "🔜\n",
      "Damn it: 🔝 TOP Arrow\n",
      "🔝\n",
      "Damn it: ♣ Club Suit\n",
      "♣\n",
      "Damn it: 🔞 No One Under Eighteen\n",
      "🔞\n",
      "Damn it: 🔟 Keycap 10\n",
      "🔟\n",
      "Damn it: 🔠 Input Latin Uppercase\n",
      "🔠\n",
      "Damn it: 🔡 Input Latin Lowercase\n",
      "🔡\n",
      "Damn it: 🔢 Input Numbers\n",
      "🔢\n",
      "Damn it: 🔣 Input Symbols\n",
      "🔣\n",
      "Damn it: 🔤 Input Latin Letters\n",
      "🔤\n",
      "Damn it: ♥ Heart Suit\n",
      "♥\n",
      "Damn it: 🔯 Dotted Six-pointed Star\n",
      "🔯\n",
      "Damn it: 🔰 Japanese Symbol For Beginner\n",
      "🔰\n",
      "🔱\n",
      "Damn it: ♦ Diamond Suit\n",
      "♦\n",
      "🔲\n",
      "🔳\n",
      "Damn it: 🔴 Red Circle\n",
      "🔴\n",
      "Damn it: 🔵 Blue Circle\n",
      "🔵\n",
      "🔶\n",
      "🔷\n",
      "🔸\n",
      "🔹\n",
      "Damn it: 🔺 Red Triangle Pointed Up\n",
      "🔺\n",
      "Damn it: 🔻 Red Triangle Pointed Down\n",
      "🔻\n",
      "♨️\n",
      "Damn it: 🔼 Up Button\n",
      "🔼\n",
      "Damn it: 🔽 Down Button\n",
      "🔽\n"
     ]
    },
    {
     "name": "stderr",
     "output_type": "stream",
     "text": [
      "Some characters could not be decoded, and were replaced with REPLACEMENT CHARACTER.\n"
     ]
    },
    {
     "name": "stdout",
     "output_type": "stream",
     "text": [
      "Damn it: 🕐 One O�clock\n",
      "🕐\n"
     ]
    },
    {
     "name": "stderr",
     "output_type": "stream",
     "text": [
      "Some characters could not be decoded, and were replaced with REPLACEMENT CHARACTER.\n"
     ]
    },
    {
     "name": "stdout",
     "output_type": "stream",
     "text": [
      "Damn it: 🕑 Two O�clock\n",
      "🕑\n"
     ]
    },
    {
     "name": "stderr",
     "output_type": "stream",
     "text": [
      "Some characters could not be decoded, and were replaced with REPLACEMENT CHARACTER.\n"
     ]
    },
    {
     "name": "stdout",
     "output_type": "stream",
     "text": [
      "Damn it: 🕒 Three O�clock\n",
      "🕒\n"
     ]
    },
    {
     "name": "stderr",
     "output_type": "stream",
     "text": [
      "Some characters could not be decoded, and were replaced with REPLACEMENT CHARACTER.\n"
     ]
    },
    {
     "name": "stdout",
     "output_type": "stream",
     "text": [
      "Damn it: 🕓 Four O�clock\n",
      "🕓\n"
     ]
    },
    {
     "name": "stderr",
     "output_type": "stream",
     "text": [
      "Some characters could not be decoded, and were replaced with REPLACEMENT CHARACTER.\n"
     ]
    },
    {
     "name": "stdout",
     "output_type": "stream",
     "text": [
      "Damn it: 🕔 Five O�clock\n",
      "🕔\n"
     ]
    },
    {
     "name": "stderr",
     "output_type": "stream",
     "text": [
      "Some characters could not be decoded, and were replaced with REPLACEMENT CHARACTER.\n"
     ]
    },
    {
     "name": "stdout",
     "output_type": "stream",
     "text": [
      "Damn it: 🕕 Six O�clock\n",
      "🕕\n"
     ]
    },
    {
     "name": "stderr",
     "output_type": "stream",
     "text": [
      "Some characters could not be decoded, and were replaced with REPLACEMENT CHARACTER.\n"
     ]
    },
    {
     "name": "stdout",
     "output_type": "stream",
     "text": [
      "Damn it: 🕖 Seven O�clock\n",
      "🕖\n"
     ]
    },
    {
     "name": "stderr",
     "output_type": "stream",
     "text": [
      "Some characters could not be decoded, and were replaced with REPLACEMENT CHARACTER.\n"
     ]
    },
    {
     "name": "stdout",
     "output_type": "stream",
     "text": [
      "Damn it: 🕗 Eight O�clock\n",
      "🕗\n",
      "Damn it: ♻ Recycling Symbol\n",
      "♻\n"
     ]
    },
    {
     "name": "stderr",
     "output_type": "stream",
     "text": [
      "Some characters could not be decoded, and were replaced with REPLACEMENT CHARACTER.\n"
     ]
    },
    {
     "name": "stdout",
     "output_type": "stream",
     "text": [
      "Damn it: 🕘 Nine O�clock\n",
      "🕘\n"
     ]
    },
    {
     "name": "stderr",
     "output_type": "stream",
     "text": [
      "Some characters could not be decoded, and were replaced with REPLACEMENT CHARACTER.\n"
     ]
    },
    {
     "name": "stdout",
     "output_type": "stream",
     "text": [
      "Damn it: 🕙 Ten O�clock\n",
      "🕙\n"
     ]
    },
    {
     "name": "stderr",
     "output_type": "stream",
     "text": [
      "Some characters could not be decoded, and were replaced with REPLACEMENT CHARACTER.\n"
     ]
    },
    {
     "name": "stdout",
     "output_type": "stream",
     "text": [
      "Damn it: 🕚 Eleven O�clock\n",
      "🕚\n"
     ]
    },
    {
     "name": "stderr",
     "output_type": "stream",
     "text": [
      "Some characters could not be decoded, and were replaced with REPLACEMENT CHARACTER.\n"
     ]
    },
    {
     "name": "stdout",
     "output_type": "stream",
     "text": [
      "Damn it: 🕛 Twelve O�clock\n",
      "🕛\n",
      "Damn it: 🕜 One-thirty\n",
      "🕜\n",
      "Damn it: 🕝 Two-thirty\n",
      "🕝\n",
      "Damn it: 🕞 Three-thirty\n",
      "🕞\n",
      "Damn it: 🕟 Four-thirty\n",
      "🕟\n",
      "Damn it: 🕠 Five-thirty\n",
      "🕠\n",
      "Damn it: 🕡 Six-thirty\n",
      "🕡\n",
      "♿\n",
      "Damn it: 🕢 Seven-thirty\n",
      "🕢\n",
      "Damn it: 🕣 Eight-thirty\n",
      "🕣\n",
      "Damn it: 🕤 Nine-thirty\n",
      "🕤\n",
      "Damn it: 🕥 Ten-thirty\n",
      "🕥\n",
      "Damn it: 🕦 Eleven-thirty\n",
      "🕦\n",
      "Damn it: 🕧 Twelve-thirty\n",
      "🕧\n",
      "Damn it: 5️⃣ Keycap: 5\n",
      "5️⃣\n",
      "Damn it: ⚪ White Circle\n",
      "⚪\n",
      "Damn it: ⚫ Black Circle\n",
      "⚫\n",
      "⛎\n",
      "Damn it: 6️⃣ Keycap: 6\n",
      "6️⃣\n",
      "⛔\n",
      "Damn it: 🚫 Prohibited\n",
      "🚫\n",
      "Damn it: 🚭 No Smoking\n",
      "🚭\n",
      "Damn it: 🚮 Litter In Bin Sign\n",
      "🚮\n",
      "Damn it: 🚯 No Littering\n",
      "🚯\n",
      "Damn it: 🚰 Potable Water\n",
      "🚰\n",
      "Damn it: 🚱 Non-potable Water\n",
      "🚱\n",
      "🚳\n",
      "🚷\n",
      "🚸\n",
      "https://emojidictionary.emojifoundation.com/men%27s_room\n",
      "https://emojidictionary.emojifoundation.com/women%27s_room\n",
      "🚻\n",
      "🚼\n",
      "🚾\n",
      "🛂\n",
      "🛃\n",
      "🛄\n",
      "🛅\n",
      "✅\n",
      "Damn it: 7️⃣ Keycap: 7\n",
      "7️⃣\n",
      "✔️\n",
      "✖️\n",
      "✨\n",
      "Damn it: ✳ Eight-spoked Asterisk\n",
      "✳\n",
      "Starting category: flags\n"
     ]
    },
    {
     "name": "stderr",
     "output_type": "stream",
     "text": [
      "Some characters could not be decoded, and were replaced with REPLACEMENT CHARACTER.\n"
     ]
    },
    {
     "name": "stdout",
     "output_type": "stream",
     "text": [
      "Damn it: 🇵🇭 Philippines\n",
      "🇵🇭\n",
      "Damn it: 🇵🇬 Papua New Guinea\n",
      "🇵🇬\n",
      "Damn it: 🇵🇪 Peru\n",
      "🇵🇪\n",
      "Damn it: 🇵🇦 Panama\n",
      "🇵🇦\n",
      "Damn it: 🇵🇷 Puerto Rico\n",
      "🇵🇷\n",
      "Damn it: 🇵🇹 Portugal\n",
      "🇵🇹\n",
      "Damn it: 🇵🇱 Poland\n",
      "🇵🇱\n",
      "Damn it: 🇶🇦 Qatar\n",
      "🇶🇦\n",
      "Damn it: 🇫🇷 France\n",
      "🇫🇷\n",
      "Damn it: 🇷🇸 Serbia\n",
      "🇷🇸\n",
      "Damn it: 🇷🇴 Romania\n",
      "🇷🇴\n",
      "Damn it: 🇷🇺 Russia\n",
      "🇷🇺\n",
      "Damn it: 🇷🇼 Rwanda\n",
      "🇷🇼\n",
      "Damn it: 🇸🇲 San Marino\n",
      "🇸🇲\n",
      "Damn it: 🇸🇦 Saudi Arabia\n",
      "🇸🇦\n",
      "Damn it: 🇸🇧 Solomon Islands\n",
      "🇸🇧\n",
      "Damn it: 🇸🇨 Seychelles\n",
      "🇸🇨\n",
      "Damn it: 🇸🇩 Sudan\n",
      "🇸🇩\n",
      "Damn it: 🇸🇬 Singapore\n",
      "🇸🇬\n",
      "Damn it: 🇸🇪 Sweden\n",
      "🇸🇪\n",
      "Damn it: 🇸🇮 Slovenia\n",
      "🇸🇮\n",
      "Damn it: 🇸🇻 El Salvador\n",
      "🇸🇻\n",
      "Damn it: 🇸🇿 Swaziland\n",
      "🇸🇿\n",
      "Damn it: 🇸🇾 Syria\n",
      "🇸🇾\n",
      "Damn it: 🇸🇽 Sint Maarten\n",
      "🇸🇽\n"
     ]
    },
    {
     "name": "stderr",
     "output_type": "stream",
     "text": [
      "Some characters could not be decoded, and were replaced with REPLACEMENT CHARACTER.\n"
     ]
    },
    {
     "name": "stdout",
     "output_type": "stream",
     "text": [
      "Damn it: 🇸🇹 S�o Tom� &amp; Pr�ncipe\n",
      "🇸🇹\n",
      "Damn it: 🇸🇸 South Sudan\n",
      "🇸🇸\n",
      "Damn it: 🇸🇳 Senegal\n",
      "🇸🇳\n",
      "Damn it: 🇸🇱 Sierra Leone\n",
      "🇸🇱\n",
      "Damn it: 🇸🇰 Slovakia\n",
      "🇸🇰\n",
      "Damn it: 🇸🇷 Suriname\n",
      "🇸🇷\n",
      "Damn it: 🇸🇴 Somalia\n",
      "🇸🇴\n",
      "Damn it: 🇹🇴 Tonga\n",
      "🇹🇴\n",
      "Damn it: 🇹🇿 Tanzania\n",
      "🇹🇿\n",
      "Damn it: 🇹🇹 Trinidad &amp; Tobago\n",
      "🇹🇹\n",
      "Damn it: 🇹🇲 Turkmenistan\n",
      "🇹🇲\n",
      "Damn it: 🇹🇳 Tunisia\n",
      "🇹🇳\n",
      "Damn it: 🇹🇱 Timor-Leste\n",
      "🇹🇱\n",
      "🦃\n",
      "Damn it: 🇹🇻 Tuvalu\n",
      "🇹🇻\n",
      "Damn it: 🇹🇬 Togo\n",
      "🇹🇬\n",
      "Damn it: 🇹🇩 Chad\n",
      "🇹🇩\n",
      "Damn it: 🇹🇯 Tajikistan\n",
      "🇹🇯\n",
      "Damn it: 🇹🇭 Thailand\n",
      "🇹🇭\n",
      "Damn it: 🇹🇨 Turks &amp; Caicos Islands\n",
      "🇹🇨\n",
      "Damn it: 🇺🇸 United States\n",
      "🇺🇸\n",
      "Damn it: 🇺🇿 Uzbekistan\n",
      "🇺🇿\n",
      "Damn it: 🇺🇾 Uruguay\n",
      "🇺🇾\n",
      "Damn it: 🇺🇬 Uganda\n",
      "🇺🇬\n",
      "Damn it: 🇺🇦 Ukraine\n",
      "🇺🇦\n",
      "Damn it: 🇻🇺 Vanuatu\n",
      "🇻🇺\n",
      "Damn it: 🇻🇳 Vietnam\n",
      "🇻🇳\n",
      "Damn it: 🇻🇨 St. Vincent &amp; Grenadines\n",
      "🇻🇨\n",
      "Damn it: 🇻🇪 Venezuela\n",
      "🇻🇪\n",
      "Damn it: 🇻🇬 British Virgin Islands\n",
      "🇻🇬\n",
      "Damn it: 🇻🇮 U.S. Virgin Islands\n",
      "🇻🇮\n",
      "Damn it: 🇼🇸 Samoa\n",
      "🇼🇸\n",
      "Damn it: 🇾🇪 Yemen\n",
      "🇾🇪\n",
      "Damn it: 🇿🇦 South Africa\n",
      "🇿🇦\n",
      "Damn it: 🇿🇼 Zimbabwe\n",
      "🇿🇼\n",
      "Damn it: 🇿🇲 Zambia\n",
      "🇿🇲\n",
      "Damn it: 🇦🇿 Azerbaijan\n",
      "🇦🇿\n",
      "Damn it: 🇦🇺 Australia\n",
      "🇦🇺\n",
      "Damn it: 🇦🇼 Aruba\n",
      "🇦🇼\n",
      "Damn it: 🇦🇴 Angola\n",
      "🇦🇴\n",
      "Damn it: 🇦🇱 Albania\n",
      "🇦🇱\n",
      "Damn it: 🇦🇲 Armenia\n",
      "🇦🇲\n",
      "Damn it: 🇦🇸 American Samoa\n",
      "🇦🇸\n",
      "Damn it: 🇦🇹 Austria\n",
      "🇦🇹\n",
      "Damn it: 🇦🇪 United Arab Emirates\n",
      "🇦🇪\n",
      "Damn it: 🇦🇬 Antigua &amp; Barbuda\n",
      "🇦🇬\n",
      "Damn it: 🇦🇫 Afghanistan\n",
      "🇦🇫\n",
      "Damn it: 🇦🇨 Ascension Island\n",
      "🇦🇨\n",
      "Damn it: 🇦🇩 Andorra\n",
      "🇦🇩\n",
      "Damn it: 🇦🇷 Argentina\n",
      "🇦🇷\n",
      "Damn it: 🇧🇴 Bolivia\n",
      "🇧🇴\n",
      "Damn it: 🇧🇷 Brazil\n",
      "🇧🇷\n",
      "Damn it: 🇧🇳 Brunei\n",
      "🇧🇳\n",
      "Damn it: 🇧🇲 Bermuda\n",
      "🇧🇲\n",
      "Damn it: 🇧🇹 Bhutan\n",
      "🇧🇹\n",
      "Damn it: 🇧🇸 Bahamas\n",
      "🇧🇸\n",
      "Damn it: 🇧🇾 Belarus\n",
      "🇧🇾\n",
      "Damn it: 🇧🇿 Belize\n",
      "🇧🇿\n",
      "Damn it: 🇧🇼 Botswana\n",
      "🇧🇼\n",
      "Damn it: 🇧🇪 Belgium\n",
      "🇧🇪\n",
      "Damn it: 🇧🇫 Burkina Faso\n",
      "🇧🇫\n",
      "Damn it: 🇧🇬 Bulgaria\n",
      "🇧🇬\n",
      "Damn it: 🇧🇭 Bahrain\n",
      "🇧🇭\n",
      "Damn it: 🇧🇮 Burundi\n",
      "🇧🇮\n",
      "Damn it: 🇧🇯 Benin\n",
      "🇧🇯\n",
      "Damn it: 🇧🇦 Bosnia &amp; Herzegovina\n",
      "🇧🇦\n",
      "Damn it: 🇧🇧 Barbados\n",
      "🇧🇧\n",
      "Damn it: 🇧🇩 Bangladesh\n",
      "🇧🇩\n",
      "Damn it: 🇨🇻 Cape Verde\n",
      "🇨🇻\n"
     ]
    },
    {
     "name": "stderr",
     "output_type": "stream",
     "text": [
      "Some characters could not be decoded, and were replaced with REPLACEMENT CHARACTER.\n"
     ]
    },
    {
     "name": "stdout",
     "output_type": "stream",
     "text": [
      "Damn it: 🇨🇼 Cura�ao\n",
      "🇨🇼\n",
      "Damn it: 🇨🇺 Cuba\n",
      "🇨🇺\n",
      "Damn it: 🇨🇿 Czech Republic\n",
      "🇨🇿\n",
      "Damn it: 🇨🇾 Cyprus\n",
      "🇨🇾\n",
      "Damn it: 🇨🇲 Cameroon\n",
      "🇨🇲\n",
      "Damn it: 🇨🇳 China\n",
      "🇨🇳\n",
      "Damn it: 🇨🇰 Cook Islands\n",
      "🇨🇰\n",
      "Damn it: 🇨🇱 Chile\n",
      "🇨🇱\n",
      "Damn it: 🇨🇷 Costa Rica\n",
      "🇨🇷\n",
      "Damn it: 🇨🇴 Colombia\n",
      "🇨🇴\n",
      "Damn it: 🇨🇩 Congo - Kinshasa\n",
      "🇨🇩\n",
      "Damn it: 🇨🇦 Canada\n",
      "🇨🇦\n",
      "Damn it: 🇨🇬 Congo - Brazzaville\n",
      "🇨🇬\n",
      "Damn it: 🇨🇫 Central African Republic\n",
      "🇨🇫\n"
     ]
    },
    {
     "name": "stderr",
     "output_type": "stream",
     "text": [
      "Some characters could not be decoded, and were replaced with REPLACEMENT CHARACTER.\n"
     ]
    },
    {
     "name": "stdout",
     "output_type": "stream",
     "text": [
      "Damn it: 🇨🇮 C�te D�Ivoire\n",
      "🇨🇮\n",
      "Damn it: 🇨🇭 Switzerland\n",
      "🇨🇭\n",
      "Damn it: 🇩🇪 Germany\n",
      "🇩🇪\n",
      "Damn it: 🇩🇯 Djibouti\n",
      "🇩🇯\n",
      "Damn it: 🇩🇲 Dominica\n",
      "🇩🇲\n",
      "Damn it: 🇩🇰 Denmark\n",
      "🇩🇰\n",
      "Damn it: 🇩🇴 Dominican Republic\n",
      "🇩🇴\n",
      "Damn it: 🇩🇿 Algeria\n",
      "🇩🇿\n",
      "Damn it: 🇪🇹 Ethiopia\n",
      "🇪🇹\n",
      "Damn it: 🇪🇸 Spain\n",
      "🇪🇸\n",
      "Damn it: 🇪🇷 Eritrea\n",
      "🇪🇷\n",
      "Damn it: 🇪🇬 Egypt\n",
      "🇪🇬\n",
      "Damn it: 🇪🇪 Estonia\n",
      "🇪🇪\n",
      "Damn it: 🇪🇨 Ecuador\n",
      "🇪🇨\n",
      "Damn it: 🇫🇴 Faroe Islands\n",
      "🇫🇴\n",
      "Damn it: 🇫🇷 France\n",
      "🇫🇷\n",
      "Damn it: 🇫🇮 Finland\n",
      "🇫🇮\n",
      "Damn it: 🇫🇯 Fiji\n",
      "🇫🇯\n",
      "Damn it: 🇬🇹 Guatemala\n",
      "🇬🇹\n",
      "Damn it: 🇬🇳 Guinea\n",
      "🇬🇳\n",
      "Damn it: 🇬🇲 Gambia\n",
      "🇬🇲\n",
      "Damn it: 🇫🇷 France\n",
      "🇫🇷\n",
      "Damn it: 🇬🇷 Greece\n",
      "🇬🇷\n",
      "Damn it: 🇬🇶 Equatorial Guinea\n",
      "🇬🇶\n",
      "Damn it: 🇬🇺 Guam\n",
      "🇬🇺\n",
      "Damn it: 🇬🇼 Guinea-Bissau\n",
      "🇬🇼\n",
      "Damn it: 🇬🇾 Guyana\n",
      "🇬🇾\n",
      "Damn it: 🇬🇫 French Guiana\n",
      "🇬🇫\n",
      "Damn it: 🇬🇭 Ghana\n",
      "🇬🇭\n",
      "Damn it: 🇬🇮 Gibraltar\n",
      "🇬🇮\n",
      "Damn it: 🇬🇪 Georgia\n",
      "🇬🇪\n",
      "Damn it: 🇬🇩 Grenada\n",
      "🇬🇩\n",
      "Damn it: 🇬🇦 Gabon\n",
      "🇬🇦\n",
      "Damn it: 🇬🇧 United Kingdom\n",
      "🇬🇧\n",
      "Damn it: 🇭🇺 Hungary\n",
      "🇭🇺\n",
      "Damn it: 🇭🇷 Croatia\n",
      "🇭🇷\n",
      "Damn it: 🇭🇳 Honduras\n",
      "🇭🇳\n",
      "Damn it: 🇭🇰 Hong Kong SAR China\n",
      "🇭🇰\n",
      "Damn it: 🇭🇹 Haiti\n",
      "🇭🇹\n",
      "Damn it: 🇮🇪 Ireland\n",
      "🇮🇪\n",
      "Damn it: 🇮🇩 Indonesia\n",
      "🇮🇩\n",
      "Damn it: 🇮🇷 Iran\n",
      "🇮🇷\n",
      "Damn it: 🇮🇶 Iraq\n",
      "🇮🇶\n",
      "Damn it: 🇮🇳 India\n",
      "🇮🇳\n",
      "Damn it: 🇮🇱 Israel\n",
      "🇮🇱\n",
      "Damn it: 🇮🇹 Italy\n",
      "🇮🇹\n",
      "Damn it: 🇮🇸 Iceland\n",
      "🇮🇸\n",
      "Damn it: 🇯🇴 Jordan\n",
      "🇯🇴\n",
      "Damn it: 🇯🇵 Japan\n",
      "🇯🇵\n",
      "Damn it: 🇯🇲 Jamaica\n",
      "🇯🇲\n",
      "Damn it: 🇰🇬 Kyrgyzstan\n",
      "🇰🇬\n",
      "Damn it: 🇰🇪 Kenya\n",
      "🇰🇪\n",
      "Damn it: 🇰🇭 Cambodia\n",
      "🇰🇭\n",
      "Damn it: 🇰🇮 Kiribati\n",
      "🇰🇮\n",
      "Damn it: 🇰🇼 Kuwait\n",
      "🇰🇼\n",
      "Damn it: 🇰🇿 Kazakhstan\n",
      "🇰🇿\n",
      "Damn it: 🇰🇾 Cayman Islands\n",
      "🇰🇾\n",
      "Damn it: 🇰🇳 St. Kitts &amp; Nevis\n",
      "🇰🇳\n",
      "Damn it: 🇰🇲 Comoros\n",
      "🇰🇲\n",
      "Damn it: 🇰🇷 South Korea\n",
      "🇰🇷\n",
      "Damn it: 🇰🇵 North Korea\n",
      "🇰🇵\n",
      "Damn it: 🇱🇰 Sri Lanka\n",
      "🇱🇰\n",
      "Damn it: 🇱🇷 Liberia\n",
      "🇱🇷\n",
      "Damn it: 🇱🇸 Lesotho\n",
      "🇱🇸\n",
      "Damn it: 🇱🇹 Lithuania\n",
      "🇱🇹\n",
      "Damn it: 🇱🇻 Latvia\n",
      "🇱🇻\n",
      "Damn it: 🇱🇺 Luxembourg\n",
      "🇱🇺\n",
      "Damn it: 🇱🇾 Libya\n",
      "🇱🇾\n",
      "Damn it: 🇱🇮 Liechtenstein\n",
      "🇱🇮\n",
      "Damn it: 🇱🇨 St. Lucia\n",
      "🇱🇨\n",
      "Damn it: 🇱🇧 Lebanon\n",
      "🇱🇧\n",
      "Damn it: 🇱🇦 Laos\n",
      "🇱🇦\n",
      "Damn it: 🇲🇼 Malawi\n",
      "🇲🇼\n",
      "Damn it: 🇲🇻 Maldives\n",
      "🇲🇻\n",
      "Damn it: 🇲🇴 Macau SAR China\n",
      "🇲🇴\n",
      "Damn it: 🇲🇪 Montenegro\n",
      "🇲🇪\n",
      "Damn it: 🇲🇬 Madagascar\n",
      "🇲🇬\n",
      "Damn it: 🇲🇩 Moldova\n",
      "🇲🇩\n",
      "Damn it: 🇲🇦 Morocco\n",
      "🇲🇦\n",
      "Damn it: 🇲🇳 Mongolia\n",
      "🇲🇳\n",
      "Damn it: 🇹🇼 Taiwan\n",
      "🇹🇼\n",
      "Damn it: 🇲🇷 Mauritania\n",
      "🇲🇷\n",
      "Damn it: 🇫🇷 France\n",
      "🇫🇷\n",
      "Damn it: 🇲🇹 Malta\n",
      "🇲🇹\n",
      "Damn it: 🇲🇸 Montserrat\n",
      "🇲🇸\n",
      "Damn it: 🇲🇾 Malaysia\n",
      "🇲🇾\n",
      "Damn it: 🇲🇽 Mexico\n",
      "🇲🇽\n",
      "Damn it: 🇲🇿 Mozambique\n",
      "🇲🇿\n",
      "Damn it: 🇲🇱 Mali\n",
      "🇲🇱\n",
      "Damn it: 🇲🇰 Macedonia\n",
      "🇲🇰\n",
      "Damn it: 🇲🇵 Northern Mariana Islands\n",
      "🇲🇵\n",
      "Damn it: 🇳🇮 Nicaragua\n",
      "🇳🇮\n",
      "Damn it: 🇳🇦 Namibia\n",
      "🇳🇦\n",
      "Damn it: 🇳🇱 Netherlands\n",
      "🇳🇱\n",
      "Damn it: 🇳🇴 Norway\n",
      "🇳🇴\n",
      "Damn it: 🇳🇵 Nepal\n",
      "🇳🇵\n",
      "Damn it: 🇳🇿 New Zealand\n",
      "🇳🇿\n",
      "Damn it: 🇳🇺 Niue\n",
      "🇳🇺\n",
      "Damn it: 🇳🇪 Niger\n",
      "🇳🇪\n",
      "Damn it: 🇳🇨 New Caledonia\n",
      "🇳🇨\n",
      "Damn it: 🇳🇬 Nigeria\n",
      "🇳🇬\n",
      "Damn it: 🇴🇲 Oman\n",
      "🇴🇲\n",
      "Damn it: 🇵🇸 Palestinian Territories\n",
      "🇵🇸\n",
      "Damn it: 🇵🇰 Pakistan\n",
      "🇵🇰\n",
      "Damn it: 🇵🇾 Paraguay\n",
      "🇵🇾\n",
      "Damn it: 🇵🇼 Palau\n",
      "🇵🇼\n",
      "Starting category: places\n",
      "Damn it: 🛣 Motorway\n",
      "🛣\n",
      "🛤️\n",
      "🛥️\n",
      "🛩️\n",
      "🛫\n",
      "Damn it: 🛬 Airplane Arrival\n",
      "🛬\n",
      "🛰️\n",
      "🛳️\n",
      "Damn it: 🇨🇳 China\n",
      "🇨🇳\n",
      "Damn it: 🇩🇪 Germany\n",
      "🇩🇪\n",
      "Damn it: 🇪🇦 Ceuta &amp; Melilla\n",
      "🇪🇦\n",
      "Damn it: 🇫🇷 France\n",
      "🇫🇷\n",
      "Damn it: 🇬🇧 United Kingdom\n",
      "🇬🇧\n",
      "Damn it: 🇮🇹 Italy\n",
      "🇮🇹\n",
      "Damn it: 🇯🇵 Japan\n",
      "🇯🇵\n",
      "Damn it: 🇰🇷 South Korea\n",
      "🇰🇷\n",
      "Damn it: 🇷🇺 Russia\n",
      "🇷🇺\n",
      "Damn it: 🇺🇸 United States\n",
      "🇺🇸\n",
      "🌃\n",
      "🌄\n",
      "🌅\n",
      "Damn it: 🌆 Cityscape At Dusk\n",
      "🌆\n",
      "Damn it: 🌇 Sunset\n",
      "🌇\n",
      "Damn it: 🌉 Bridge At Night\n",
      "🌉\n",
      "🎠\n",
      "🎡\n",
      "🎢\n",
      "Damn it: 🏘 House\n",
      "🏘\n",
      "🏡\n",
      "🏢\n",
      "🏣\n",
      "Damn it: 🏤 Post Office\n",
      "🏤\n",
      "🏥\n",
      "🏦\n",
      "Damn it: 🏧 ATM Sign\n",
      "🏧\n",
      "🏨\n",
      "🏩\n",
      "🏪\n",
      "🏫\n",
      "🏬\n",
      "🏭\n",
      "Damn it: 🏮 Red Paper Lantern\n",
      "🏮\n",
      "🏯\n",
      "Damn it: 🏰 Castle\n",
      "🏰\n",
      "💈\n",
      "💒\n",
      "🗻\n",
      "🗼\n",
      "Damn it: 🗽 Statue Of Liberty\n",
      "🗽\n",
      "Damn it: 🗾 Map Of Japan\n",
      "🗾\n",
      "⚓\n",
      "Damn it: 🗿 Moai\n",
      "🗿\n",
      "Damn it: ⚠ Warning\n",
      "⚠\n",
      "🚀\n",
      "🚁\n",
      "Damn it: 🚂 Locomotive\n",
      "🚂\n",
      "🚃\n",
      "Damn it: 🚄 High-speed Train\n",
      "🚄\n",
      "Damn it: 🚅 High-speed Train With Bullet Nose\n",
      "🚅\n",
      "🚆\n",
      "🚇\n",
      "🚈\n",
      "🚉\n",
      "🚊\n",
      "🚃\n",
      "🚌\n",
      "🚍\n",
      "🚎\n",
      "🚏\n",
      "🚐\n",
      "🚑\n",
      "🚒\n",
      "🚓\n",
      "🚔\n",
      "🚕\n",
      "🚖\n",
      "🚗\n",
      "🚘\n",
      "Damn it: 🚙 Sport Utility Vehicle\n",
      "🚙\n",
      "🚚\n",
      "🚛\n",
      "🚜\n",
      "🚝\n",
      "🚞\n",
      "🚟\n",
      "🚠\n",
      "⛪\n",
      "🚡\n",
      "🚢\n",
      "Damn it: 🚣 Person Rowing Boat\n",
      "🚣\n",
      "🚤\n",
      "🚥\n",
      "🚦\n",
      "Damn it: 🚧 Construction\n",
      "🚧\n",
      "Damn it: 🚨 Police Car Light\n",
      "🚨\n",
      "Damn it: 🚩 Triangular Flag\n",
      "🚩\n",
      "⛲\n",
      "⛵\n",
      "⛺\n",
      "✈️\n"
     ]
    }
   ],
   "source": [
    "import time\n",
    "for category in emoji_categories:\n",
    "    print(\"Starting category:\", category[:-1])\n",
    "    category_link = site+category\n",
    "    category_html_page = urllib.request.urlopen(category_link)\n",
    "    links_to_emoji = get_links_to_emoji(category_html_page)\n",
    "    for i, link_to_emoji in enumerate(links_to_emoji):\n",
    "        emoji_link = site+link_to_emoji\n",
    "        try:\n",
    "            emoji_html_page = urllib.request.urlopen(emoji_link)\n",
    "        except Exception as e:\n",
    "            print(emoji_link)\n",
    "            continue\n",
    "        data = get_emoji_name_and_defs(emoji_html_page)\n",
    "        emojis.append(data)\n",
    "        print(data[0])\n",
    "        time.sleep(0.1)"
   ]
  },
  {
   "cell_type": "code",
   "execution_count": 14,
   "metadata": {
    "collapsed": true
   },
   "outputs": [],
   "source": [
    "import copy\n",
    "emojis___ = copy.deepcopy(emojis)"
   ]
  },
  {
   "cell_type": "code",
   "execution_count": 15,
   "metadata": {},
   "outputs": [
    {
     "data": {
      "text/plain": [
       "1190"
      ]
     },
     "execution_count": 15,
     "metadata": {},
     "output_type": "execute_result"
    }
   ],
   "source": [
    "len(emojis)"
   ]
  },
  {
   "cell_type": "code",
   "execution_count": null,
   "metadata": {
    "collapsed": true
   },
   "outputs": [],
   "source": [
    "with open(\"emojidict_data.txt\", \"w\") as file:\n",
    "    for i in range(len(emojis)):\n",
    "        for j in range(3):\n",
    "            file.write(str(emojis[i][j]))\n",
    "            file.write('\\t')\n",
    "        file.write('\\n')"
   ]
  }
 ],
 "metadata": {
  "kernelspec": {
   "display_name": "Python 3",
   "language": "python",
   "name": "python3"
  },
  "language_info": {
   "codemirror_mode": {
    "name": "ipython",
    "version": 3
   },
   "file_extension": ".py",
   "mimetype": "text/x-python",
   "name": "python",
   "nbconvert_exporter": "python",
   "pygments_lexer": "ipython3",
   "version": "3.5.2"
  }
 },
 "nbformat": 4,
 "nbformat_minor": 2
}
